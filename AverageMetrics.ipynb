{
 "cells": [
  {
   "cell_type": "code",
   "outputs": [
    {
     "name": "stdout",
     "output_type": "stream",
     "text": [
      "Requirement already satisfied: pip in ./.venv/lib/python3.10/site-packages (24.0)\r\n",
      "Requirement already satisfied: pandas in ./.venv/lib/python3.10/site-packages (2.2.0)\r\n",
      "Requirement already satisfied: scikit-learn in ./.venv/lib/python3.10/site-packages (1.4.0)\r\n",
      "Requirement already satisfied: matplotlib in ./.venv/lib/python3.10/site-packages (3.8.2)\r\n",
      "Requirement already satisfied: numpy<2,>=1.22.4 in ./.venv/lib/python3.10/site-packages (from pandas) (1.26.4)\r\n",
      "Requirement already satisfied: python-dateutil>=2.8.2 in ./.venv/lib/python3.10/site-packages (from pandas) (2.8.2)\r\n",
      "Requirement already satisfied: pytz>=2020.1 in ./.venv/lib/python3.10/site-packages (from pandas) (2024.1)\r\n",
      "Requirement already satisfied: tzdata>=2022.7 in ./.venv/lib/python3.10/site-packages (from pandas) (2024.1)\r\n",
      "Requirement already satisfied: scipy>=1.6.0 in ./.venv/lib/python3.10/site-packages (from scikit-learn) (1.12.0)\r\n",
      "Requirement already satisfied: joblib>=1.2.0 in ./.venv/lib/python3.10/site-packages (from scikit-learn) (1.3.2)\r\n",
      "Requirement already satisfied: threadpoolctl>=2.0.0 in ./.venv/lib/python3.10/site-packages (from scikit-learn) (3.2.0)\r\n",
      "Requirement already satisfied: contourpy>=1.0.1 in ./.venv/lib/python3.10/site-packages (from matplotlib) (1.2.0)\r\n",
      "Requirement already satisfied: cycler>=0.10 in ./.venv/lib/python3.10/site-packages (from matplotlib) (0.12.1)\r\n",
      "Requirement already satisfied: fonttools>=4.22.0 in ./.venv/lib/python3.10/site-packages (from matplotlib) (4.48.1)\r\n",
      "Requirement already satisfied: kiwisolver>=1.3.1 in ./.venv/lib/python3.10/site-packages (from matplotlib) (1.4.5)\r\n",
      "Requirement already satisfied: packaging>=20.0 in ./.venv/lib/python3.10/site-packages (from matplotlib) (23.2)\r\n",
      "Requirement already satisfied: pillow>=8 in ./.venv/lib/python3.10/site-packages (from matplotlib) (10.2.0)\r\n",
      "Requirement already satisfied: pyparsing>=2.3.1 in ./.venv/lib/python3.10/site-packages (from matplotlib) (3.1.1)\r\n",
      "Requirement already satisfied: six>=1.5 in ./.venv/lib/python3.10/site-packages (from python-dateutil>=2.8.2->pandas) (1.16.0)\r\n"
     ]
    }
   ],
   "source": [
    "!pip install --upgrade pip\n",
    "!pip install pandas scikit-learn matplotlib"
   ],
   "metadata": {
    "collapsed": false,
    "ExecuteTime": {
     "end_time": "2024-02-13T13:56:06.564512790Z",
     "start_time": "2024-02-13T13:56:04.065015299Z"
    }
   },
   "id": "a9672f595d46132d",
   "execution_count": 1
  },
  {
   "cell_type": "code",
   "outputs": [
    {
     "name": "stderr",
     "output_type": "stream",
     "text": [
      "/tmp/ipykernel_240129/294078879.py:6: DeprecationWarning: \n",
      "Pyarrow will become a required dependency of pandas in the next major release of pandas (pandas 3.0),\n",
      "(to allow more performant data types, such as the Arrow string type, and better interoperability with other libraries)\n",
      "but was not found to be installed on your system.\n",
      "If this would cause problems for you,\n",
      "please provide us feedback at https://github.com/pandas-dev/pandas/issues/54466\n",
      "        \n",
      "  import pandas as pd\n"
     ]
    }
   ],
   "source": [
    "import os\n",
    "\n",
    "import matplotlib\n",
    "import matplotlib.pyplot as plt\n",
    "import numpy as np\n",
    "import pandas as pd\n",
    "\n",
    "from sklearn import metrics\n",
    "from sklearn.dummy import DummyClassifier"
   ],
   "metadata": {
    "collapsed": true,
    "ExecuteTime": {
     "end_time": "2024-02-13T13:56:07.437188018Z",
     "start_time": "2024-02-13T13:56:06.564583754Z"
    }
   },
   "id": "initial_id",
   "execution_count": 2
  },
  {
   "cell_type": "code",
   "outputs": [],
   "source": [
    "fontsize = 12\n",
    "plt.rcParams.update({'font.size': fontsize})\n",
    "cmap = matplotlib.colormaps['tab10']\n",
    "blue = cmap(0)\n",
    "green = cmap(2)\n",
    "yellow = cmap(8)"
   ],
   "metadata": {
    "collapsed": false,
    "ExecuteTime": {
     "end_time": "2024-02-13T13:56:07.446012231Z",
     "start_time": "2024-02-13T13:56:07.438851619Z"
    }
   },
   "id": "e76fb680219de577",
   "execution_count": 3
  },
  {
   "cell_type": "markdown",
   "source": [
    "## Class Distribution"
   ],
   "metadata": {
    "collapsed": false
   },
   "id": "de8ba6160e3f4f66"
  },
  {
   "cell_type": "code",
   "outputs": [
    {
     "data": {
      "text/plain": "array(['credit_note', 'debit_note', 'order', 'proforma', 'purchase_order',\n       'receipt', 'sales_order', 'tax_invoice', 'utility_bill'],\n      dtype='<U14')"
     },
     "execution_count": 4,
     "metadata": {},
     "output_type": "execute_result"
    }
   ],
   "source": [
    "classes = np.unique(np.load(os.path.join('Arrays', 'Donut', 'y_true.npy')))\n",
    "classes"
   ],
   "metadata": {
    "collapsed": false,
    "ExecuteTime": {
     "end_time": "2024-02-13T13:56:07.454305901Z",
     "start_time": "2024-02-13T13:56:07.441697357Z"
    }
   },
   "id": "68004534ce2e0280",
   "execution_count": 4
  },
  {
   "cell_type": "code",
   "outputs": [
    {
     "data": {
      "text/plain": "(19393,)"
     },
     "execution_count": 5,
     "metadata": {},
     "output_type": "execute_result"
    }
   ],
   "source": [
    "arrays = ['y_train', 'y_test', 'y_val']\n",
    "y_true = np.concatenate([np.load(os.path.join('Arrays', f'{array}.npy')) for array in arrays])\n",
    "y_true = np.array([classes[np.argmax(sample)] for sample in y_true])\n",
    "y_true.shape"
   ],
   "metadata": {
    "collapsed": false,
    "ExecuteTime": {
     "end_time": "2024-02-13T13:56:07.500498148Z",
     "start_time": "2024-02-13T13:56:07.451756591Z"
    }
   },
   "id": "7e75567057517805",
   "execution_count": 5
  },
  {
   "cell_type": "code",
   "outputs": [
    {
     "data": {
      "text/plain": "debit_note           7\nutility_bill        18\nproforma            33\ncredit_note         35\nreceipt           1121\nsales_order       2122\npurchase_order    3167\norder             5605\ntax_invoice       7285\nName: count, dtype: int64"
     },
     "execution_count": 6,
     "metadata": {},
     "output_type": "execute_result"
    }
   ],
   "source": [
    "counts = pd.Series(y_true).value_counts(ascending=True)\n",
    "counts"
   ],
   "metadata": {
    "collapsed": false,
    "ExecuteTime": {
     "end_time": "2024-02-13T13:56:07.555239715Z",
     "start_time": "2024-02-13T13:56:07.500736894Z"
    }
   },
   "id": "d8f4cb7d977789fe",
   "execution_count": 6
  },
  {
   "cell_type": "code",
   "outputs": [],
   "source": [
    "# classes_ger = ['Lastschrift', 'Strom- und\\nGasrechnung', 'Proforma', 'Gutschrift', 'Beleg', 'Kunden-\\nauftrag', 'Auftrags-\\nbestätigung', 'Auftrag', 'Steuer-\\nrechnung']\n",
    "# counts.index = classes_ger\n",
    "# counts"
   ],
   "metadata": {
    "collapsed": false,
    "ExecuteTime": {
     "end_time": "2024-02-13T13:56:07.556391385Z",
     "start_time": "2024-02-13T13:56:07.546433929Z"
    }
   },
   "id": "c0804c860b6d73b3",
   "execution_count": 7
  },
  {
   "cell_type": "code",
   "outputs": [
    {
     "data": {
      "text/plain": "<Figure size 1000x600 with 1 Axes>",
      "image/png": "[encoded data removed]"
     },
     "metadata": {},
     "output_type": "display_data"
    }
   ],
   "source": [
    "plt.figure(figsize=(10, 6))\n",
    "plt.bar(x=counts.index, height=counts.values, width=0.5)\n",
    "\n",
    "# Displaying percentages above each bar\n",
    "for i, count in enumerate(counts.values):\n",
    "    perc = count / len(y_true) * 100\n",
    "    plt.text(i, count + 400, f'{count:,}', ha='center', fontsize=fontsize, weight='normal')  # First row normal\n",
    "    plt.text(i, count + 60, f'{perc:.2f}%', ha='center', fontsize=fontsize, weight='bold')  # Second row bold\n",
    "\n",
    "plt.title('Klassenverteilung')\n",
    "plt.ylim(0, 8100)\n",
    "plt.yticks([])\n",
    "plt.tight_layout()\n",
    "plt.savefig(os.path.join('Plots', 'class_distribution.png'), bbox_inches='tight')\n",
    "\n",
    "plt.show()"
   ],
   "metadata": {
    "collapsed": false,
    "ExecuteTime": {
     "end_time": "2024-02-13T13:56:07.753171802Z",
     "start_time": "2024-02-13T13:56:07.546745105Z"
    }
   },
   "id": "97b01298d97a8ff8",
   "execution_count": 8
  },
  {
   "cell_type": "markdown",
   "source": [
    "## Baseline"
   ],
   "metadata": {
    "collapsed": false
   },
   "id": "4c3c29ff9c348cbf"
  },
  {
   "cell_type": "markdown",
   "source": [
    "### Dummy Classifier"
   ],
   "metadata": {
    "collapsed": false
   },
   "id": "a4117d974badebf"
  },
  {
   "cell_type": "code",
   "outputs": [
    {
     "data": {
      "text/plain": "                       classifier             type  balanced_accuracy\n0  Baseline\\nMost\\nFrequent Class  DummyClassifier           0.111111\n1    Baseline\\nWeighted\\nGuessing  DummyClassifier           0.108908",
      "text/html": "<div>\n<style scoped>\n    .dataframe tbody tr th:only-of-type {\n        vertical-align: middle;\n    }\n\n    .dataframe tbody tr th {\n        vertical-align: top;\n    }\n\n    .dataframe thead th {\n        text-align: right;\n    }\n</style>\n<table border=\"1\" class=\"dataframe\">\n  <thead>\n    <tr style=\"text-align: right;\">\n      <th></th>\n      <th>classifier</th>\n      <th>type</th>\n      <th>balanced_accuracy</th>\n    </tr>\n  </thead>\n  <tbody>\n    <tr>\n      <th>0</th>\n      <td>Baseline\\nMost\\nFrequent Class</td>\n      <td>DummyClassifier</td>\n      <td>0.111111</td>\n    </tr>\n    <tr>\n      <th>1</th>\n      <td>Baseline\\nWeighted\\nGuessing</td>\n      <td>DummyClassifier</td>\n      <td>0.108908</td>\n    </tr>\n  </tbody>\n</table>\n</div>"
     },
     "execution_count": 9,
     "metadata": {},
     "output_type": "execute_result"
    }
   ],
   "source": [
    "strategies = ['most_frequent', 'stratified']\n",
    "classifiers = ['Baseline\\nMost\\nFrequent Class', 'Baseline\\nWeighted\\nGuessing']\n",
    "baselines = []\n",
    "\n",
    "for strategy, classifier in zip(strategies, classifiers):\n",
    "    clf = DummyClassifier(strategy=strategy, random_state=0)\n",
    "    clf.fit(X=None, y=y_true)\n",
    "    y_pred = clf.predict(y_true)\n",
    "    balanced_accuracy = metrics.balanced_accuracy_score(y_true, y_pred)\n",
    "    result = {\n",
    "        'classifier': classifier,\n",
    "        'type': 'DummyClassifier',\n",
    "        'balanced_accuracy': balanced_accuracy\n",
    "    }\n",
    "    baselines.append(result)\n",
    "    \n",
    "baselines_df = pd.DataFrame(baselines)\n",
    "baselines_df"
   ],
   "metadata": {
    "collapsed": false,
    "ExecuteTime": {
     "end_time": "2024-02-13T13:56:07.873317120Z",
     "start_time": "2024-02-13T13:56:07.752902021Z"
    }
   },
   "id": "d39af63a420b6cb3",
   "execution_count": 9
  },
  {
   "cell_type": "code",
   "outputs": [],
   "source": [
    "def evaluate(classifier, y_true, y_pred):\n",
    "    balanced_accuracy = metrics.balanced_accuracy_score(y_true, y_pred)\n",
    "    print(f'{classifier} balanced accuracy: {balanced_accuracy:.4f}')\n",
    "    \n",
    "    results.append(result)"
   ],
   "metadata": {
    "collapsed": false,
    "ExecuteTime": {
     "end_time": "2024-02-13T13:56:07.874464367Z",
     "start_time": "2024-02-13T13:56:07.825211553Z"
    }
   },
   "id": "b118772b849a3632",
   "execution_count": 10
  },
  {
   "cell_type": "markdown",
   "source": [
    "### Zero Rate and Random Rate"
   ],
   "metadata": {
    "collapsed": false
   },
   "id": "ee7093c0831b6524"
  },
  {
   "cell_type": "code",
   "outputs": [],
   "source": [
    "def zero_rate(class_frequencies):\n",
    "    return max(class_frequencies)\n",
    "\n",
    "def random_rate(class_frequencies):\n",
    "    return sum([class_frequency ** 2 for class_frequency in class_frequencies])"
   ],
   "metadata": {
    "collapsed": false,
    "ExecuteTime": {
     "end_time": "2024-02-13T13:56:07.875871635Z",
     "start_time": "2024-02-13T13:56:07.830128885Z"
    }
   },
   "id": "3ddff847263c7eaa",
   "execution_count": 11
  },
  {
   "cell_type": "code",
   "outputs": [
    {
     "name": "stdout",
     "output_type": "stream",
     "text": [
      "zero rate: 0.3757\n",
      "random rate: 0.2666\n"
     ]
    }
   ],
   "source": [
    "class_frequencies = pd.Series(y_true).value_counts(normalize=True).values\n",
    "print(f'zero rate: {zero_rate(class_frequencies):.4f}')\n",
    "print(f'random rate: {random_rate(class_frequencies):.4f}')"
   ],
   "metadata": {
    "collapsed": false,
    "ExecuteTime": {
     "end_time": "2024-02-13T13:56:07.901170990Z",
     "start_time": "2024-02-13T13:56:07.836096172Z"
    }
   },
   "id": "7c8ebea4e22d499",
   "execution_count": 12
  },
  {
   "cell_type": "markdown",
   "source": [
    "## Donut Classification"
   ],
   "metadata": {
    "collapsed": false
   },
   "id": "56e531c96325da4"
  },
  {
   "cell_type": "code",
   "outputs": [
    {
     "ename": "FileNotFoundError",
     "evalue": "[Errno 2] No such file or directory: 'Arrays/DonutClassification/10epochs_y_pred.npy'",
     "output_type": "error",
     "traceback": [
      "\u001B[0;31m---------------------------------------------------------------------------\u001B[0m",
      "\u001B[0;31mFileNotFoundError\u001B[0m                         Traceback (most recent call last)",
      "Cell \u001B[0;32mIn[13], line 2\u001B[0m\n\u001B[1;32m      1\u001B[0m \u001B[38;5;66;03m# Load the predictions of the best donut model\u001B[39;00m\n\u001B[0;32m----> 2\u001B[0m donut_y_pred \u001B[38;5;241m=\u001B[39m \u001B[43mnp\u001B[49m\u001B[38;5;241;43m.\u001B[39;49m\u001B[43mload\u001B[49m\u001B[43m(\u001B[49m\u001B[43mos\u001B[49m\u001B[38;5;241;43m.\u001B[39;49m\u001B[43mpath\u001B[49m\u001B[38;5;241;43m.\u001B[39;49m\u001B[43mjoin\u001B[49m\u001B[43m(\u001B[49m\u001B[38;5;124;43m'\u001B[39;49m\u001B[38;5;124;43mArrays\u001B[39;49m\u001B[38;5;124;43m'\u001B[39;49m\u001B[43m,\u001B[49m\u001B[43m \u001B[49m\u001B[38;5;124;43m'\u001B[39;49m\u001B[38;5;124;43mDonutClassification\u001B[39;49m\u001B[38;5;124;43m'\u001B[39;49m\u001B[43m,\u001B[49m\u001B[43m \u001B[49m\u001B[38;5;124;43mf\u001B[39;49m\u001B[38;5;124;43m'\u001B[39;49m\u001B[38;5;124;43m10epochs_y_pred.npy\u001B[39;49m\u001B[38;5;124;43m'\u001B[39;49m\u001B[43m)\u001B[49m\u001B[43m)\u001B[49m\u001B[38;5;241m.\u001B[39mtolist()\n\u001B[1;32m      3\u001B[0m evaluate(\u001B[38;5;124m'\u001B[39m\u001B[38;5;124mDonut\u001B[39m\u001B[38;5;124m'\u001B[39m, y_true, donut_y_pred)\n",
      "File \u001B[0;32m~/PycharmProjects/Validas/SebastianStrobelHauptprojekt/.venv/lib/python3.10/site-packages/numpy/lib/npyio.py:427\u001B[0m, in \u001B[0;36mload\u001B[0;34m(file, mmap_mode, allow_pickle, fix_imports, encoding, max_header_size)\u001B[0m\n\u001B[1;32m    425\u001B[0m     own_fid \u001B[38;5;241m=\u001B[39m \u001B[38;5;28;01mFalse\u001B[39;00m\n\u001B[1;32m    426\u001B[0m \u001B[38;5;28;01melse\u001B[39;00m:\n\u001B[0;32m--> 427\u001B[0m     fid \u001B[38;5;241m=\u001B[39m stack\u001B[38;5;241m.\u001B[39menter_context(\u001B[38;5;28;43mopen\u001B[39;49m\u001B[43m(\u001B[49m\u001B[43mos_fspath\u001B[49m\u001B[43m(\u001B[49m\u001B[43mfile\u001B[49m\u001B[43m)\u001B[49m\u001B[43m,\u001B[49m\u001B[43m \u001B[49m\u001B[38;5;124;43m\"\u001B[39;49m\u001B[38;5;124;43mrb\u001B[39;49m\u001B[38;5;124;43m\"\u001B[39;49m\u001B[43m)\u001B[49m)\n\u001B[1;32m    428\u001B[0m     own_fid \u001B[38;5;241m=\u001B[39m \u001B[38;5;28;01mTrue\u001B[39;00m\n\u001B[1;32m    430\u001B[0m \u001B[38;5;66;03m# Code to distinguish from NumPy binary files and pickles.\u001B[39;00m\n",
      "\u001B[0;31mFileNotFoundError\u001B[0m: [Errno 2] No such file or directory: 'Arrays/DonutClassification/10epochs_y_pred.npy'"
     ]
    }
   ],
   "source": [
    "# Load the predictions of the best donut model\n",
    "donut_y_pred = np.load(os.path.join('Arrays', 'DonutClassification', f'10epochs_y_pred.npy')).tolist()\n",
    "evaluate('Donut', y_true, donut_y_pred)"
   ],
   "metadata": {
    "collapsed": false,
    "ExecuteTime": {
     "end_time": "2024-02-13T13:56:08.031356874Z",
     "start_time": "2024-02-13T13:56:07.878254675Z"
    }
   },
   "id": "343c35eae3f6df52",
   "execution_count": 13
  },
  {
   "cell_type": "code",
   "outputs": [],
   "source": [
    "pd.DataFrame(results)"
   ],
   "metadata": {
    "collapsed": false,
    "ExecuteTime": {
     "start_time": "2024-02-13T13:56:08.020152858Z"
    }
   },
   "id": "294042b7a893b62b",
   "execution_count": null
  },
  {
   "cell_type": "code",
   "outputs": [],
   "source": [
    "epoch_counts = ['10', '20', '30']\n",
    "results_donut = []\n",
    "\n",
    "for epochs in epoch_counts:\n",
    "    y_pred = np.load(os.path.join('Arrays', 'DonutClassification', f'{epochs}epochs_y_pred.npy'))\n",
    "    result = {\n",
    "        'classifier': f'Donut\\n{epochs} Epochs',\n",
    "        'balanced_accuracy': metrics.balanced_accuracy_score(y_true, y_pred)\n",
    "    }\n",
    "    results_donut.append(result)\n",
    "    \n",
    "results_donut.insert(0, results[0])\n",
    "results_donut.insert(1, results[1])\n",
    "results_donut_df = pd.DataFrame(results_donut)\n",
    "\n",
    "colors = [blue, blue, green, green, green]\n",
    "plt.figure(figsize=(8, 6))\n",
    "plt.bar(x=results_donut_df['classifier'], height=results_donut_df['balanced_accuracy'], width=0.5, color=colors)\n",
    "plt.title('Donut Balanced Accuracy')\n",
    "plt.xlabel('Classifier')\n",
    "plt.ylabel('Score')\n",
    "plt.ylim(0, 1)\n",
    "\n",
    "# Displaying percentages above each bar\n",
    "for i, score in enumerate(results_donut_df['balanced_accuracy']):\n",
    "    plt.text(i, score + 0.01, f'{score:.2f}', ha='center', fontsize=fontsize, weight='normal')\n",
    "\n",
    "plt.tight_layout()\n",
    "plt.savefig(os.path.join('Plots', 'donut_balanced_accuracy.png'), bbox_inches='tight')\n",
    "plt.show()"
   ],
   "metadata": {
    "collapsed": false,
    "ExecuteTime": {
     "end_time": "2024-02-13T13:56:08.101826522Z",
     "start_time": "2024-02-13T13:56:08.062932109Z"
    }
   },
   "id": "614670f1ffdd646",
   "execution_count": null
  },
  {
   "cell_type": "markdown",
   "source": [
    "## VGG16 Classification"
   ],
   "metadata": {
    "collapsed": false
   },
   "id": "1af39166a2cb047"
  },
  {
   "cell_type": "code",
   "outputs": [],
   "source": [
    "def evaluate_cnn(cnn):\n",
    "    layers_versions = ['added_layer', 'all_layer']\n",
    "    layers_versions_pretty = ['Added Layers', 'All Layers']\n",
    "    epoch_counts = ['30', '50', '100']\n",
    "    y_true = np.load(os.path.join('Arrays', cnn, f'y_test.npy'))\n",
    "    y_true = [classes[np.argmax(sample)] for sample in y_true]\n",
    "    results_cnn = []\n",
    "    \n",
    "    for layers, layers_pretty in zip(layers_versions, layers_versions_pretty):\n",
    "        for epochs in epoch_counts:\n",
    "            y_pred = np.load(os.path.join('Arrays', cnn, f'predictions_{layers}_{epochs}epochs_10_5.npy'))\n",
    "            balanced_accuracy = metrics.balanced_accuracy_score(y_true, y_pred)\n",
    "            result = {\n",
    "                'classifier': f'{cnn}\\n{layers_pretty}\\n{epochs} Epochs',\n",
    "                'balanced_accuracy': balanced_accuracy\n",
    "            }\n",
    "            results_cnn.append(result)\n",
    "    \n",
    "    results_cnn.insert(0, results[0])\n",
    "    results_cnn.insert(1, results[1])\n",
    "    results_cnn_df = pd.DataFrame(results_cnn)\n",
    "    \n",
    "    colors = [blue, blue, green, green, green, yellow, yellow, yellow]\n",
    "    plt.figure(figsize=(11, 6))\n",
    "    plt.bar(x=results_cnn_df['classifier'], height=results_cnn_df['balanced_accuracy'], width=0.5, color=colors)\n",
    "    \n",
    "    plt.title(f'{cnn} Balanced Accuracy')\n",
    "    \n",
    "    plt.xlabel('Classifier')\n",
    "    \n",
    "    plt.ylabel('Score')\n",
    "    plt.ylim(0, 1)\n",
    "    \n",
    "    # Displaying percentages above each bar\n",
    "    for i, score in enumerate(results_cnn_df['balanced_accuracy']):\n",
    "        plt.text(i, score + 0.01, f'{score:.2f}', ha='center', fontsize=fontsize, weight='normal')\n",
    "    \n",
    "    plt.tight_layout()\n",
    "    plt.savefig(os.path.join('Plots', f'{cnn.lower()}_balanced_accuracy.png'), bbox_inches='tight')\n",
    "    plt.show()"
   ],
   "metadata": {
    "collapsed": false,
    "ExecuteTime": {
     "start_time": "2024-02-13T13:56:08.063496057Z"
    }
   },
   "id": "4709be7f6fe1fc14",
   "execution_count": null
  },
  {
   "cell_type": "code",
   "outputs": [],
   "source": [
    "# Load the predictions of the best VGG16 model\n",
    "vgg16_y_true = np.load(os.path.join('Arrays', 'VGG16', f'y_test.npy'))\n",
    "vgg16_y_true = [classes[np.argmax(sample)] for sample in vgg16_y_true]\n",
    "vgg16_y_pred = np.load(os.path.join('Arrays', 'VGG16', f'predictions_all_layer_50epochs_10_5.npy'))\n",
    "evaluate('VGG16', vgg16_y_true, vgg16_y_pred)"
   ],
   "metadata": {
    "collapsed": false,
    "ExecuteTime": {
     "start_time": "2024-02-13T13:56:08.063884241Z"
    }
   },
   "id": "5c69ddc3951668f5",
   "execution_count": null
  },
  {
   "cell_type": "code",
   "outputs": [],
   "source": [
    "pd.DataFrame(results)"
   ],
   "metadata": {
    "collapsed": false,
    "ExecuteTime": {
     "start_time": "2024-02-13T13:56:08.064309087Z"
    }
   },
   "id": "97966cc3a6c3885a",
   "execution_count": null
  },
  {
   "cell_type": "code",
   "outputs": [],
   "source": [
    "evaluate_cnn('VGG16')"
   ],
   "metadata": {
    "collapsed": false,
    "ExecuteTime": {
     "start_time": "2024-02-13T13:56:08.064757352Z"
    }
   },
   "id": "d38ec7812539fe9f",
   "execution_count": null
  },
  {
   "cell_type": "markdown",
   "source": [
    "## InceptionV3 Classification"
   ],
   "metadata": {
    "collapsed": false
   },
   "id": "dadf4665cbb3de15"
  },
  {
   "cell_type": "code",
   "outputs": [],
   "source": [
    "# Load the predictions of the best InceptionV3 model\n",
    "inceptionv3_y_true = np.load(os.path.join('Arrays', 'InceptionV3', f'y_test.npy'))\n",
    "inceptionv3_y_true = [classes[np.argmax(sample)] for sample in inceptionv3_y_true]\n",
    "inceptionv3_y_pred = np.load(os.path.join('Arrays', 'InceptionV3', f'predictions_all_layer_100epochs_10_5.npy'))\n",
    "evaluate('InceptionV3', inceptionv3_y_true, inceptionv3_y_pred)"
   ],
   "metadata": {
    "collapsed": false,
    "ExecuteTime": {
     "start_time": "2024-02-13T13:56:08.065204477Z"
    }
   },
   "id": "4c57602c02416537",
   "execution_count": null
  },
  {
   "cell_type": "code",
   "outputs": [],
   "source": [
    "pd.DataFrame(results)"
   ],
   "metadata": {
    "collapsed": false,
    "ExecuteTime": {
     "start_time": "2024-02-13T13:56:08.065672118Z"
    }
   },
   "id": "c822fb142c37e847",
   "execution_count": null
  },
  {
   "cell_type": "code",
   "outputs": [],
   "source": [
    "evaluate_cnn('InceptionV3')"
   ],
   "metadata": {
    "collapsed": false,
    "ExecuteTime": {
     "start_time": "2024-02-13T13:56:08.066431961Z"
    }
   },
   "id": "4dd665a0a781a324",
   "execution_count": null
  },
  {
   "cell_type": "markdown",
   "source": [
    "## LayoutLMv3 Classification"
   ],
   "metadata": {
    "collapsed": false
   },
   "id": "51b4d4849d4833bc"
  },
  {
   "cell_type": "code",
   "outputs": [],
   "source": [
    "# Load the predictions of the best LayoutLMv3 model\n",
    "layoutlmv3_y_true = np.load(os.path.join('Arrays', 'LayoutLMv3', f'truelabels.npy'), allow_pickle=True)\n",
    "layoutlmv3_y_pred = np.load(os.path.join('Arrays', 'LayoutLMv3', f'predictions_50Epochs.npy'), allow_pickle=True)\n",
    "evaluate('LayoutLMv3', layoutlmv3_y_true, layoutlmv3_y_pred)"
   ],
   "metadata": {
    "collapsed": false,
    "ExecuteTime": {
     "start_time": "2024-02-13T13:56:08.066612373Z"
    }
   },
   "id": "6d8ce6c3d431af1c",
   "execution_count": null
  },
  {
   "cell_type": "code",
   "outputs": [],
   "source": [
    "epoch_counts = ['30', '50', '100']\n",
    "results_layoutlmv3 = []\n",
    "\n",
    "for epochs in epoch_counts:\n",
    "    y_pred = np.load(os.path.join('Arrays', 'LayoutLMv3', f'predictions_{epochs}Epochs.npy'))\n",
    "    result = {\n",
    "        'classifier': f'LayoutLMv3\\n{epochs} Epochs',\n",
    "        'balanced_accuracy': metrics.balanced_accuracy_score(layoutlmv3_y_true, y_pred)\n",
    "    }\n",
    "    results_layoutlmv3.append(result)\n",
    "    \n",
    "results_layoutlmv3.insert(0, results[0])\n",
    "results_layoutlmv3.insert(1, results[1])\n",
    "results_layoutlmv3_df = pd.DataFrame(results_layoutlmv3)\n",
    "\n",
    "colors = [blue, blue, green, green, green]\n",
    "plt.figure(figsize=(8, 6))\n",
    "plt.bar(x=results_layoutlmv3_df['classifier'], height=results_layoutlmv3_df['balanced_accuracy'], width=0.5, color=colors)\n",
    "plt.title('LayoutLMv3 Balanced Accuracy')\n",
    "plt.xlabel('Classifier')\n",
    "plt.ylabel('Score')\n",
    "plt.ylim(0, 1)\n",
    "\n",
    "# Displaying percentages above each bar\n",
    "for i, score in enumerate(results_layoutlmv3_df['balanced_accuracy']):\n",
    "    plt.text(i, score + 0.01, f'{score:.2f}', ha='center', fontsize=fontsize, weight='normal')\n",
    "\n",
    "plt.tight_layout()\n",
    "plt.savefig(os.path.join('Plots', 'layoutlmv3_balanced_accuracy.png'), bbox_inches='tight')\n",
    "plt.show()"
   ],
   "metadata": {
    "collapsed": false,
    "ExecuteTime": {
     "start_time": "2024-02-13T13:56:08.066706536Z"
    }
   },
   "id": "6c77c2595942d22c",
   "execution_count": null
  },
  {
   "cell_type": "markdown",
   "source": [
    "## Bar Chart"
   ],
   "metadata": {
    "collapsed": false
   },
   "id": "597d7549383e4c39"
  },
  {
   "cell_type": "code",
   "outputs": [],
   "source": [
    "y_true = np.load(os.path.join('Arrays', 'DonutClassification', f'10epochs_y_real.npy'))\n",
    "X = np.zeros((len(y_true), 1))\n",
    "results = []\n",
    "classes = np.unique(y_true)\n",
    "classes"
   ],
   "metadata": {
    "collapsed": false,
    "ExecuteTime": {
     "start_time": "2024-02-13T13:56:08.066794205Z"
    }
   },
   "id": "8448b1c6ca7cdb0d",
   "execution_count": null
  },
  {
   "cell_type": "code",
   "outputs": [],
   "source": [
    "results_df = pd.DataFrame(results)\n",
    "\n",
    "colors = [blue, blue, green, green, green, green]\n",
    "plt.figure(figsize=(8, 6))\n",
    "plt.bar(x=results_df['classifier'], height=results_df['balanced_accuracy'], width=0.5, color=colors)\n",
    "plt.title('Balanced Accuracy')\n",
    "plt.xlabel('Classifier')\n",
    "plt.ylabel('Score')\n",
    "plt.ylim(0, 1)\n",
    "\n",
    "# Displaying percentages above each bar\n",
    "for i, score in enumerate(results_df['balanced_accuracy']):\n",
    "    plt.text(i, score + 0.01, f'{score:.2f}', ha='center', fontsize=fontsize, weight='normal')\n",
    "\n",
    "plt.tight_layout()\n",
    "plt.savefig(os.path.join('Plots', 'balanced_accuracy.png'), bbox_inches='tight')\n",
    "plt.show()"
   ],
   "metadata": {
    "collapsed": false,
    "ExecuteTime": {
     "start_time": "2024-02-13T13:56:08.066892079Z"
    }
   },
   "id": "666bb2ec904de9e",
   "execution_count": null
  },
  {
   "cell_type": "code",
   "outputs": [],
   "source": [],
   "metadata": {
    "collapsed": false,
    "ExecuteTime": {
     "start_time": "2024-02-13T13:56:08.066978969Z"
    }
   },
   "id": "67f5644dceade279",
   "execution_count": null
  }
 ],
 "metadata": {
  "kernelspec": {
   "display_name": "Python 3",
   "language": "python",
   "name": "python3"
  },
  "language_info": {
   "codemirror_mode": {
    "name": "ipython",
    "version": 2
   },
   "file_extension": ".py",
   "mimetype": "text/x-python",
   "name": "python",
   "nbconvert_exporter": "python",
   "pygments_lexer": "ipython2",
   "version": "2.7.6"
  }
 },
 "nbformat": 4,
 "nbformat_minor": 5
}
