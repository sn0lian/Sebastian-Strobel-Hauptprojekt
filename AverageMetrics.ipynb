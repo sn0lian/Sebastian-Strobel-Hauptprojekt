{
 "cells": [
  {
   "cell_type": "code",
   "outputs": [
    {
     "name": "stdout",
     "output_type": "stream",
     "text": [
      "Requirement already satisfied: pandas in ./venv/lib/python3.10/site-packages (2.1.4)\r\n",
      "Requirement already satisfied: scikit-learn in ./venv/lib/python3.10/site-packages (1.3.2)\r\n",
      "Requirement already satisfied: matplotlib in ./venv/lib/python3.10/site-packages (3.8.2)\r\n",
      "Requirement already satisfied: numpy<2,>=1.22.4 in ./venv/lib/python3.10/site-packages (from pandas) (1.26.3)\r\n",
      "Requirement already satisfied: python-dateutil>=2.8.2 in ./venv/lib/python3.10/site-packages (from pandas) (2.8.2)\r\n",
      "Requirement already satisfied: pytz>=2020.1 in ./venv/lib/python3.10/site-packages (from pandas) (2023.3.post1)\r\n",
      "Requirement already satisfied: tzdata>=2022.1 in ./venv/lib/python3.10/site-packages (from pandas) (2023.4)\r\n",
      "Requirement already satisfied: scipy>=1.5.0 in ./venv/lib/python3.10/site-packages (from scikit-learn) (1.11.4)\r\n",
      "Requirement already satisfied: joblib>=1.1.1 in ./venv/lib/python3.10/site-packages (from scikit-learn) (1.3.2)\r\n",
      "Requirement already satisfied: threadpoolctl>=2.0.0 in ./venv/lib/python3.10/site-packages (from scikit-learn) (3.2.0)\r\n",
      "Requirement already satisfied: contourpy>=1.0.1 in ./venv/lib/python3.10/site-packages (from matplotlib) (1.2.0)\r\n",
      "Requirement already satisfied: cycler>=0.10 in ./venv/lib/python3.10/site-packages (from matplotlib) (0.12.1)\r\n",
      "Requirement already satisfied: fonttools>=4.22.0 in ./venv/lib/python3.10/site-packages (from matplotlib) (4.47.0)\r\n",
      "Requirement already satisfied: kiwisolver>=1.3.1 in ./venv/lib/python3.10/site-packages (from matplotlib) (1.4.5)\r\n",
      "Requirement already satisfied: packaging>=20.0 in ./venv/lib/python3.10/site-packages (from matplotlib) (23.2)\r\n",
      "Requirement already satisfied: pillow>=8 in ./venv/lib/python3.10/site-packages (from matplotlib) (10.2.0)\r\n",
      "Requirement already satisfied: pyparsing>=2.3.1 in ./venv/lib/python3.10/site-packages (from matplotlib) (3.1.1)\r\n",
      "Requirement already satisfied: six>=1.5 in ./venv/lib/python3.10/site-packages (from python-dateutil>=2.8.2->pandas) (1.16.0)\r\n"
     ]
    }
   ],
   "source": [
    "!pip install pandas scikit-learn matplotlib"
   ],
   "metadata": {
    "collapsed": false,
    "ExecuteTime": {
     "end_time": "2024-01-04T15:15:25.570965454Z",
     "start_time": "2024-01-04T15:15:24.630928499Z"
    }
   },
   "id": "a9672f595d46132d",
   "execution_count": 27
  },
  {
   "cell_type": "code",
   "outputs": [],
   "source": [
    "import os\n",
    "\n",
    "import matplotlib.pyplot as plt\n",
    "import numpy as np\n",
    "\n",
    "from sklearn import metrics\n",
    "from sklearn.dummy import DummyClassifier"
   ],
   "metadata": {
    "collapsed": true,
    "ExecuteTime": {
     "end_time": "2024-01-04T15:15:37.691729802Z",
     "start_time": "2024-01-04T15:15:37.684750525Z"
    }
   },
   "id": "initial_id",
   "execution_count": 28
  },
  {
   "cell_type": "code",
   "outputs": [],
   "source": [
    "def zero_rate(class_frequencies):\n",
    "    return max(class_frequencies)\n",
    "\n",
    "def random_rate(class_frequencies):\n",
    "    return sum([class_frequency ** 2 for class_frequency in class_frequencies])"
   ],
   "metadata": {
    "collapsed": false,
    "ExecuteTime": {
     "end_time": "2024-01-04T14:58:38.654086113Z",
     "start_time": "2024-01-04T14:58:38.653388761Z"
    }
   },
   "id": "3ddff847263c7eaa",
   "execution_count": 8
  },
  {
   "cell_type": "markdown",
   "source": [
    "## Donut Classification"
   ],
   "metadata": {
    "collapsed": false
   },
   "id": "56e531c96325da4"
  },
  {
   "cell_type": "markdown",
   "source": [
    "### Zero Rate and Random Rate"
   ],
   "metadata": {
    "collapsed": false
   },
   "id": "ec12b30f6aedd4c5"
  },
  {
   "cell_type": "code",
   "outputs": [
    {
     "data": {
      "text/plain": "[0.0018045888115493685,\n 0.0005155968032998196,\n 0.28899200824954885,\n 0.0015467904098994587,\n 0.1634441866460428,\n 0.05774684196957979,\n 0.10930652229956174,\n 0.37561227120391855,\n 0.0010311936065996391]"
     },
     "execution_count": 20,
     "metadata": {},
     "output_type": "execute_result"
    }
   ],
   "source": [
    "y_true = np.load(os.path.join('Arrays', 'DonutClassification', f'10epochs_y_real.npy'))\n",
    "\n",
    "# Get unique values and their counts\n",
    "_, counts = np.unique(y_true, return_counts=True)\n",
    "\n",
    "total_elements = len(y_true)\n",
    "\n",
    "class_frequencies = []\n",
    "\n",
    "for count in counts:\n",
    "    class_frequency = (count / total_elements)\n",
    "    class_frequencies.append(class_frequency)\n",
    "    \n",
    "class_frequencies"
   ],
   "metadata": {
    "collapsed": false,
    "ExecuteTime": {
     "end_time": "2024-01-04T15:12:16.862429630Z",
     "start_time": "2024-01-04T15:12:16.818576770Z"
    }
   },
   "id": "e36f7475bf65488",
   "execution_count": 20
  },
  {
   "cell_type": "code",
   "outputs": [
    {
     "name": "stdout",
     "output_type": "stream",
     "text": [
      "zero rate: 0.3756\n",
      "random rate: 0.2666\n"
     ]
    }
   ],
   "source": [
    "print(f'zero rate: {zero_rate(class_frequencies):.4f}')\n",
    "print(f'random rate: {random_rate(class_frequencies):.4f}')"
   ],
   "metadata": {
    "collapsed": false,
    "ExecuteTime": {
     "end_time": "2024-01-04T15:12:17.169420948Z",
     "start_time": "2024-01-04T15:12:17.167787913Z"
    }
   },
   "id": "45e2e116b9fc3ae",
   "execution_count": 21
  },
  {
   "cell_type": "markdown",
   "source": [
    "### Dummy Classifier"
   ],
   "metadata": {
    "collapsed": false
   },
   "id": "4c3c29ff9c348cbf"
  },
  {
   "cell_type": "code",
   "outputs": [],
   "source": [
    "def print_scores(y_true, y_pred):\n",
    "    balanced_accuracy_score = metrics.balanced_accuracy_score(y_true, y_pred)\n",
    "    weighted_recall_score = metrics.recall_score(y_true, y_pred, average='weighted', zero_division=0)\n",
    "    weighted_precision_score = metrics.precision_score(y_true, y_pred, average='weighted', zero_division=0)\n",
    "    weighted_f1_score = metrics.f1_score(y_true, y_pred, average='weighted', zero_division=0)\n",
    "    \n",
    "    print(f'balanced accuracy score: {balanced_accuracy_score:.4f}')\n",
    "    print(f'weighted recall score: {weighted_recall_score:.4f}')\n",
    "    print(f'weighted precision score: {weighted_precision_score:.4f}')\n",
    "    print(f'weighted f1 score: {weighted_f1_score:.4f}')"
   ],
   "metadata": {
    "collapsed": false,
    "ExecuteTime": {
     "end_time": "2024-01-04T15:26:30.333037011Z",
     "start_time": "2024-01-04T15:26:30.328718643Z"
    }
   },
   "id": "51783e2712dfa259",
   "execution_count": 51
  },
  {
   "cell_type": "code",
   "outputs": [
    {
     "name": "stdout",
     "output_type": "stream",
     "text": [
      "balanced accuracy score: 0.1111\n",
      "weighted recall score: 0.3756\n",
      "weighted precision score: 0.1411\n",
      "weighted f1 score: 0.2051\n"
     ]
    }
   ],
   "source": [
    "X = np.zeros((len(y_true), 1))\n",
    "\n",
    "classifier = DummyClassifier(strategy='most_frequent')\n",
    "classifier.fit(X=None, y=y_true)\n",
    "y_pred = classifier.predict(y_true)\n",
    "\n",
    "print_scores(y_true, y_pred)"
   ],
   "metadata": {
    "collapsed": false,
    "ExecuteTime": {
     "end_time": "2024-01-04T15:26:30.702288947Z",
     "start_time": "2024-01-04T15:26:30.677767592Z"
    }
   },
   "id": "d39af63a420b6cb3",
   "execution_count": 52
  },
  {
   "cell_type": "code",
   "outputs": [],
   "source": [
    "donut_10_epochs_y_true = np.load(os.path.join('Arrays', 'DonutClassification', f'10epochs_y_real.npy')).tolist()\n",
    "donut_20_epochs_y_true = np.load(os.path.join('Arrays', 'DonutClassification', f'20epochs_y_real.npy')).tolist()\n",
    "donut_30_epochs_y_true = np.load(os.path.join('Arrays', 'DonutClassification', f'30epochs_y_real.npy')).tolist()\n",
    "    \n",
    "assert donut_10_epochs_y_true == donut_20_epochs_y_true == donut_30_epochs_y_true"
   ],
   "metadata": {
    "collapsed": false,
    "ExecuteTime": {
     "end_time": "2024-01-04T15:03:37.094984566Z",
     "start_time": "2024-01-04T15:03:37.091361268Z"
    }
   },
   "id": "343c35eae3f6df52",
   "execution_count": 13
  },
  {
   "cell_type": "code",
   "outputs": [
    {
     "name": "stdout",
     "output_type": "stream",
     "text": [
      "balanced accuracy score: 0.7918\n",
      "weighted recall score: 0.9969\n",
      "weighted precision score: 0.9964\n",
      "weighted f1 score: 0.9965\n",
      "\n",
      "balanced accuracy score: 0.7685\n",
      "weighted recall score: 0.9804\n",
      "weighted precision score: 0.9807\n",
      "weighted f1 score: 0.9800\n",
      "\n",
      "balanced accuracy score: 0.7810\n",
      "weighted recall score: 0.9603\n",
      "weighted precision score: 0.9638\n",
      "weighted f1 score: 0.9602\n"
     ]
    },
    {
     "data": {
      "text/plain": "<Figure size 640x480 with 1 Axes>",
      "image/png": "[encoded data removed]"
     },
     "metadata": {},
     "output_type": "display_data"
    }
   ],
   "source": [
    "balanced_accuracy_scores = []\n",
    "\n",
    "x = [10, 20, 30]\n",
    "\n",
    "for epochs in x:\n",
    "    y_true = np.load(os.path.join('Arrays', 'DonutClassification', f'{epochs}epochs_y_real.npy'))\n",
    "    y_pred = np.load(os.path.join('Arrays', 'DonutClassification', f'{epochs}epochs_y_pred.npy'))\n",
    "    print_scores(y_true, y_pred)\n",
    "    print()\n",
    "    balanced_accuracy = metrics.balanced_accuracy_score(y_true, y_pred)\n",
    "    balanced_accuracy_scores.append(balanced_accuracy)\n",
    "    \n",
    "plt.bar(x=x, height=balanced_accuracy_scores, width=5)\n",
    "\n",
    "# Annotate each bar with its value\n",
    "for i, score in enumerate(balanced_accuracy_scores):\n",
    "    plt.text(x=x[i], y=score + 0.01, s=f'{score:.4f}', ha='center')\n",
    "\n",
    "plt.title('Donut Classification Balanced Accuracy Scores')\n",
    "plt.xlabel('Epochs')\n",
    "plt.ylabel('Score')\n",
    "# Set x-axis ticks to only the defined values\n",
    "plt.xticks(x)\n",
    "plt.ylim(0, 1)\n",
    "plt.show()"
   ],
   "metadata": {
    "collapsed": false,
    "ExecuteTime": {
     "end_time": "2024-01-04T15:26:46.554374886Z",
     "start_time": "2024-01-04T15:26:46.317435233Z"
    }
   },
   "id": "31f60486257b5a79",
   "execution_count": 53
  },
  {
   "cell_type": "code",
   "outputs": [],
   "source": [
    "donut_10_epochs_y_true = np.load(os.path.join('Arrays', 'DonutClassification', '10epochs_y_real.npy'))\n",
    "donut_10_epochs_y_pred = np.load(os.path.join('Arrays', 'DonutClassification', '10epochs_y_pred.npy'))"
   ],
   "metadata": {
    "collapsed": false,
    "ExecuteTime": {
     "end_time": "2024-01-04T14:03:04.288628431Z",
     "start_time": "2024-01-04T14:03:04.282959286Z"
    }
   },
   "id": "6d4bdb3b36c2f0de",
   "execution_count": 8
  },
  {
   "cell_type": "code",
   "outputs": [
    {
     "name": "stdout",
     "output_type": "stream",
     "text": [
      "(3879,)\n",
      "(3879,)\n"
     ]
    }
   ],
   "source": [
    "print(donut_10_epochs_y_true.shape)\n",
    "print(donut_10_epochs_y_pred.shape)"
   ],
   "metadata": {
    "collapsed": false,
    "ExecuteTime": {
     "end_time": "2024-01-04T14:03:17.357684154Z",
     "start_time": "2024-01-04T14:03:17.317308558Z"
    }
   },
   "id": "3333eec929a0d568",
   "execution_count": 10
  },
  {
   "cell_type": "code",
   "outputs": [
    {
     "data": {
      "text/plain": "0.7918"
     },
     "execution_count": 20,
     "metadata": {},
     "output_type": "execute_result"
    }
   ],
   "source": [
    "balanced_accuracy = metrics.balanced_accuracy_score(donut_10_epochs_y_true, donut_10_epochs_y_pred)\n",
    "round(balanced_accuracy, 4)"
   ],
   "metadata": {
    "collapsed": false,
    "ExecuteTime": {
     "end_time": "2024-01-04T14:12:14.408981699Z",
     "start_time": "2024-01-04T14:12:14.399638036Z"
    }
   },
   "id": "6c918a5e77707745",
   "execution_count": 20
  },
  {
   "cell_type": "code",
   "outputs": [
    {
     "name": "stdout",
     "output_type": "stream",
     "text": [
      "[0.7143 0.     0.9955 0.6667 1.     1.     1.     1.     0.75  ]\n"
     ]
    }
   ],
   "source": [
    "recall_scores = metrics.recall_score(donut_10_epochs_y_true, donut_10_epochs_y_pred, average=None)\n",
    "print(recall_scores.round(4))"
   ],
   "metadata": {
    "collapsed": false,
    "ExecuteTime": {
     "end_time": "2024-01-04T14:16:36.430012887Z",
     "start_time": "2024-01-04T14:16:36.380509005Z"
    }
   },
   "id": "88d3fcdc4ff3cf32",
   "execution_count": 24
  },
  {
   "cell_type": "code",
   "outputs": [],
   "source": [
    "models = [\n",
    "    {'name': 'donut_10_epochs', 'path': os.path.join('Arrays', 'DonutClassification')}\n",
    "]"
   ],
   "metadata": {
    "collapsed": false
   },
   "id": "32754f527d4215c8"
  }
 ],
 "metadata": {
  "kernelspec": {
   "display_name": "Python 3",
   "language": "python",
   "name": "python3"
  },
  "language_info": {
   "codemirror_mode": {
    "name": "ipython",
    "version": 2
   },
   "file_extension": ".py",
   "mimetype": "text/x-python",
   "name": "python",
   "nbconvert_exporter": "python",
   "pygments_lexer": "ipython2",
   "version": "2.7.6"
  }
 },
 "nbformat": 4,
 "nbformat_minor": 5
}
