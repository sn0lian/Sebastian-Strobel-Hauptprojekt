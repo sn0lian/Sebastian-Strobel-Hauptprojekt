{
 "cells": [
  {
   "metadata": {},
   "cell_type": "code",
   "outputs": [],
   "execution_count": null,
   "source": "import tensorflow as tf",
   "id": "26c8a415f6f53ce3"
  },
  {
   "metadata": {},
   "cell_type": "code",
   "outputs": [],
   "execution_count": null,
   "source": [
    "# Load pretrained model or your own\n",
    "model = tf.keras.applications.vgg16.VGG16(weights=\"imagenet\", include_top=True)\n",
    "\n",
    "# Load a sample image (or multiple ones)\n",
    "img = tf.keras.preprocessing.image.load_img(IMAGE_PATH, target_size=(224, 224))\n",
    "img = tf.keras.preprocessing.image.img_to_array(img)\n",
    "data = ([img], None)\n",
    "\n",
    "# Start explainer\n",
    "explainer = GradCAM()\n",
    "grid = explainer.explain(data, model, class_index=281)  # 281 is the tabby cat index in ImageNet\n",
    "\n",
    "explainer.save(grid, \".\", \"grad_cam.png\")"
   ],
   "id": "initial_id"
  }
 ],
 "metadata": {
  "kernelspec": {
   "display_name": "Python 3",
   "language": "python",
   "name": "python3"
  },
  "language_info": {
   "codemirror_mode": {
    "name": "ipython",
    "version": 2
   },
   "file_extension": ".py",
   "mimetype": "text/x-python",
   "name": "python",
   "nbconvert_exporter": "python",
   "pygments_lexer": "ipython2",
   "version": "2.7.6"
  }
 },
 "nbformat": 4,
 "nbformat_minor": 5
}
