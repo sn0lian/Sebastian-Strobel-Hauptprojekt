{
 "cells": [
  {
   "cell_type": "code",
   "execution_count": 15,
   "id": "initial_id",
   "metadata": {
    "collapsed": true,
    "ExecuteTime": {
     "end_time": "2024-03-28T14:00:53.794187Z",
     "start_time": "2024-03-28T14:00:53.788709Z"
    }
   },
   "outputs": [],
   "source": [
    "import pickle as pkl\n",
    "import tensorflow as tf\n",
    "\n",
    "from keras import models, layers\n",
    "from keras.src.applications import VGG16\n",
    "from keras.src.optimizers import Adam\n",
    "\n",
    "import datasets"
   ]
  },
  {
   "cell_type": "code",
   "outputs": [
    {
     "name": "stdout",
     "output_type": "stream",
     "text": [
      "Num GPUs Available:  1\n"
     ]
    }
   ],
   "source": [
    "print(\"Num GPUs Available: \", len(tf.config.list_physical_devices('GPU')))"
   ],
   "metadata": {
    "collapsed": false,
    "ExecuteTime": {
     "end_time": "2024-03-28T14:00:53.802103Z",
     "start_time": "2024-03-28T14:00:53.795695Z"
    }
   },
   "id": "d7176df7245bde73",
   "execution_count": 16
  },
  {
   "cell_type": "code",
   "outputs": [],
   "source": [
    "IMG_HEIGHT = 2245\n",
    "IMG_WIDTH = 1692\n",
    "IMG_HEIGHT_REDUCED = int(IMG_HEIGHT / 2)\n",
    "IMG_WIDTH_REDUCED = int(IMG_WIDTH / 2)\n",
    "CHANNELS = 3\n",
    "CLASSES = 9"
   ],
   "metadata": {
    "collapsed": false,
    "ExecuteTime": {
     "end_time": "2024-03-28T14:00:53.807139Z",
     "start_time": "2024-03-28T14:00:53.803206Z"
    }
   },
   "id": "71571402c84e9315",
   "execution_count": 17
  },
  {
   "cell_type": "code",
   "outputs": [
    {
     "name": "stdout",
     "output_type": "stream",
     "text": [
      "Model: \"vgg16\"\n",
      "_________________________________________________________________\n",
      " Layer (type)                Output Shape              Param #   \n",
      "=================================================================\n",
      " input_3 (InputLayer)        [(None, 1122, 846, 3)]    0         \n",
      "                                                                 \n",
      " block1_conv1 (Conv2D)       (None, 1122, 846, 64)     1792      \n",
      "                                                                 \n",
      " block1_conv2 (Conv2D)       (None, 1122, 846, 64)     36928     \n",
      "                                                                 \n",
      " block1_pool (MaxPooling2D)  (None, 561, 423, 64)      0         \n",
      "                                                                 \n",
      " block2_conv1 (Conv2D)       (None, 561, 423, 128)     73856     \n",
      "                                                                 \n",
      " block2_conv2 (Conv2D)       (None, 561, 423, 128)     147584    \n",
      "                                                                 \n",
      " block2_pool (MaxPooling2D)  (None, 280, 211, 128)     0         \n",
      "                                                                 \n",
      " block3_conv1 (Conv2D)       (None, 280, 211, 256)     295168    \n",
      "                                                                 \n",
      " block3_conv2 (Conv2D)       (None, 280, 211, 256)     590080    \n",
      "                                                                 \n",
      " block3_conv3 (Conv2D)       (None, 280, 211, 256)     590080    \n",
      "                                                                 \n",
      " block3_pool (MaxPooling2D)  (None, 140, 105, 256)     0         \n",
      "                                                                 \n",
      " block4_conv1 (Conv2D)       (None, 140, 105, 512)     1180160   \n",
      "                                                                 \n",
      " block4_conv2 (Conv2D)       (None, 140, 105, 512)     2359808   \n",
      "                                                                 \n",
      " block4_conv3 (Conv2D)       (None, 140, 105, 512)     2359808   \n",
      "                                                                 \n",
      " block4_pool (MaxPooling2D)  (None, 70, 52, 512)       0         \n",
      "                                                                 \n",
      " block5_conv1 (Conv2D)       (None, 70, 52, 512)       2359808   \n",
      "                                                                 \n",
      " block5_conv2 (Conv2D)       (None, 70, 52, 512)       2359808   \n",
      "                                                                 \n",
      " block5_conv3 (Conv2D)       (None, 70, 52, 512)       2359808   \n",
      "                                                                 \n",
      " block5_pool (MaxPooling2D)  (None, 35, 26, 512)       0         \n",
      "                                                                 \n",
      "=================================================================\n",
      "Total params: 14714688 (56.13 MB)\n",
      "Trainable params: 14714688 (56.13 MB)\n",
      "Non-trainable params: 0 (0.00 Byte)\n",
      "_________________________________________________________________\n"
     ]
    }
   ],
   "source": [
    "base_model = VGG16(weights=\"imagenet\", include_top=False, input_shape=(IMG_HEIGHT_REDUCED, IMG_WIDTH_REDUCED, CHANNELS))\n",
    "\n",
    "for layer in base_model.layers:\n",
    "    layer.trainable = True\n",
    "    \n",
    "base_model.summary()"
   ],
   "metadata": {
    "collapsed": false,
    "ExecuteTime": {
     "end_time": "2024-03-28T14:00:54.238018Z",
     "start_time": "2024-03-28T14:00:53.808130Z"
    }
   },
   "id": "a7559a8d3e472856",
   "execution_count": 18
  },
  {
   "cell_type": "code",
   "outputs": [
    {
     "name": "stdout",
     "output_type": "stream",
     "text": [
      "Model: \"sequential_2\"\n",
      "_________________________________________________________________\n",
      " Layer (type)                Output Shape              Param #   \n",
      "=================================================================\n",
      " vgg16 (Functional)          (None, 35, 26, 512)       14714688  \n",
      "                                                                 \n",
      " flatten_2 (Flatten)         (None, 465920)            0         \n",
      "                                                                 \n",
      " dense (Dense)               (None, 128)               59637888  \n",
      "                                                                 \n",
      " dropout_2 (Dropout)         (None, 128)               0         \n",
      "                                                                 \n",
      " predictions (Dense)         (None, 9)                 1161      \n",
      "                                                                 \n",
      "=================================================================\n",
      "Total params: 74353737 (283.64 MB)\n",
      "Trainable params: 74353737 (283.64 MB)\n",
      "Non-trainable params: 0 (0.00 Byte)\n",
      "_________________________________________________________________\n"
     ]
    }
   ],
   "source": [
    "model = models.Sequential()\n",
    "\n",
    "model.add(base_model)\n",
    "model.add(layers.Flatten())\n",
    "model.add(layers.Dense(128, activation='relu', name='dense'))\n",
    "model.add(layers.Dropout(0.5))\n",
    "model.add(layers.Dense(CLASSES, activation='softmax', name='predictions'))\n",
    "\n",
    "model.summary()"
   ],
   "metadata": {
    "collapsed": false,
    "ExecuteTime": {
     "end_time": "2024-03-28T14:00:54.314821Z",
     "start_time": "2024-03-28T14:00:54.239960Z"
    }
   },
   "id": "338ba953905ec1d0",
   "execution_count": 19
  },
  {
   "cell_type": "code",
   "outputs": [
    {
     "name": "stdout",
     "output_type": "stream",
     "text": [
      "Found 107394 files belonging to 9 classes.\n",
      "Using 85916 files for training.\n",
      "Using 21478 files for validation.\n"
     ]
    }
   ],
   "source": [
    "# Load the datasets\n",
    "training, validation = datasets.get_datasets()"
   ],
   "metadata": {
    "collapsed": false,
    "ExecuteTime": {
     "end_time": "2024-03-28T14:00:57.424606Z",
     "start_time": "2024-03-28T14:00:54.315886Z"
    }
   },
   "id": "48ae81430ae91f6f",
   "execution_count": 20
  },
  {
   "cell_type": "code",
   "outputs": [
    {
     "name": "stdout",
     "output_type": "stream",
     "text": [
      "Epoch 1/5\n"
     ]
    },
    {
     "name": "stderr",
     "output_type": "stream",
     "text": [
      "2024-03-28 15:00:58.312010: I external/local_xla/xla/stream_executor/cuda/cuda_dnn.cc:454] Loaded cuDNN version 8904\n",
      "2024-03-28 15:00:58.467516: I external/local_tsl/tsl/platform/default/subprocess.cc:304] Start cannot spawn child process: No such file or directory\n"
     ]
    },
    {
     "name": "stdout",
     "output_type": "stream",
     "text": [
      "10740/10740 [==============================] - 10987s 1s/step - loss: 0.0581 - accuracy: 0.9877 - val_loss: 0.0665 - val_accuracy: 0.9933\n",
      "Epoch 2/5\n",
      "10740/10740 [==============================] - 10919s 1s/step - loss: 0.0207 - accuracy: 0.9954 - val_loss: 0.0222 - val_accuracy: 0.9949\n",
      "Epoch 3/5\n",
      "10740/10740 [==============================] - 10925s 1s/step - loss: 0.0148 - accuracy: 0.9966 - val_loss: 0.0207 - val_accuracy: 0.9958\n",
      "Epoch 4/5\n",
      "10740/10740 [==============================] - 10917s 1s/step - loss: 0.0124 - accuracy: 0.9971 - val_loss: 0.0239 - val_accuracy: 0.9963\n",
      "Epoch 5/5\n",
      "10740/10740 [==============================] - 10904s 1s/step - loss: 0.0108 - accuracy: 0.9975 - val_loss: 0.0206 - val_accuracy: 0.9955\n"
     ]
    }
   ],
   "source": [
    "model.compile(\n",
    "    optimizer=Adam(learning_rate=0.00001),\n",
    "    loss='categorical_crossentropy',\n",
    "    metrics=['accuracy']\n",
    ")\n",
    "\n",
    "history = model.fit(\n",
    "    x=training,\n",
    "    epochs=5,\n",
    "    verbose=1,\n",
    "    validation_data=validation\n",
    ").history"
   ],
   "metadata": {
    "collapsed": false,
    "ExecuteTime": {
     "end_time": "2024-03-29T05:11:49.877830Z",
     "start_time": "2024-03-28T14:00:57.426171Z"
    }
   },
   "id": "15925a2102e08c91",
   "execution_count": 21
  },
  {
   "cell_type": "code",
   "outputs": [
    {
     "name": "stderr",
     "output_type": "stream",
     "text": [
      "/home/tobi/PycharmProjects/Validas/SebastianStrobelHauptprojekt/.venv/lib/python3.10/site-packages/keras/src/engine/training.py:3103: UserWarning: You are saving your model as an HDF5 file via `model.save()`. This file format is considered legacy. We recommend using instead the native Keras format, e.g. `model.save('my_model.keras')`.\n",
      "  saving_api.save_model(\n"
     ]
    }
   ],
   "source": [
    "with open('history.pkl', 'wb') as f:\n",
    "    pkl.dump(history, f)\n",
    "model.save('model.h5')"
   ],
   "metadata": {
    "collapsed": false,
    "ExecuteTime": {
     "end_time": "2024-03-29T05:11:51.014525Z",
     "start_time": "2024-03-29T05:11:49.879662Z"
    }
   },
   "id": "f6cec66e74dee2fa",
   "execution_count": 22
  },
  {
   "cell_type": "code",
   "outputs": [
    {
     "name": "stdout",
     "output_type": "stream",
     "text": [
      "2685/2685 [==============================] - 751s 280ms/step - loss: 0.0206 - accuracy: 0.9955\n",
      "Loss: 0.02056196704506874, Accuracy: 0.9955303072929382\n"
     ]
    }
   ],
   "source": [
    "loss, accuracy = model.evaluate(validation)\n",
    "print(f'Loss: {loss}, Accuracy: {accuracy}')"
   ],
   "metadata": {
    "collapsed": false,
    "ExecuteTime": {
     "end_time": "2024-03-29T05:24:21.815879Z",
     "start_time": "2024-03-29T05:11:51.015954Z"
    }
   },
   "id": "a67121cc17e3f627",
   "execution_count": 23
  }
 ],
 "metadata": {
  "kernelspec": {
   "display_name": "Python 3",
   "language": "python",
   "name": "python3"
  },
  "language_info": {
   "codemirror_mode": {
    "name": "ipython",
    "version": 2
   },
   "file_extension": ".py",
   "mimetype": "text/x-python",
   "name": "python",
   "nbconvert_exporter": "python",
   "pygments_lexer": "ipython2",
   "version": "2.7.6"
  }
 },
 "nbformat": 4,
 "nbformat_minor": 5
}
