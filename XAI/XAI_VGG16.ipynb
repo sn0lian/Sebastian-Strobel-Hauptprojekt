{
 "cells": [
  {
   "cell_type": "code",
   "outputs": [
    {
     "name": "stdout",
     "output_type": "stream",
     "text": [
      "Requirement already satisfied: pip in /home/tobi/PycharmProjects/Validas/SebastianStrobelHauptprojekt/venv/lib/python3.10/site-packages (24.0)\r\n",
      "Requirement already satisfied: matplotlib in /home/tobi/PycharmProjects/Validas/SebastianStrobelHauptprojekt/venv/lib/python3.10/site-packages (3.8.2)\r\n",
      "Requirement already satisfied: numpy in /home/tobi/PycharmProjects/Validas/SebastianStrobelHauptprojekt/venv/lib/python3.10/site-packages (1.26.4)\r\n",
      "Requirement already satisfied: keras in /home/tobi/PycharmProjects/Validas/SebastianStrobelHauptprojekt/venv/lib/python3.10/site-packages (2.15.0)\r\n",
      "Collecting keras\r\n",
      "  Using cached keras-3.0.4-py3-none-any.whl.metadata (4.8 kB)\r\n",
      "Requirement already satisfied: tensorflow in /home/tobi/PycharmProjects/Validas/SebastianStrobelHauptprojekt/venv/lib/python3.10/site-packages (2.15.0.post1)\r\n",
      "Requirement already satisfied: shap in /home/tobi/PycharmProjects/Validas/SebastianStrobelHauptprojekt/venv/lib/python3.10/site-packages (0.44.1)\r\n",
      "Requirement already satisfied: contourpy>=1.0.1 in /home/tobi/PycharmProjects/Validas/SebastianStrobelHauptprojekt/venv/lib/python3.10/site-packages (from matplotlib) (1.2.0)\r\n",
      "Requirement already satisfied: cycler>=0.10 in /home/tobi/PycharmProjects/Validas/SebastianStrobelHauptprojekt/venv/lib/python3.10/site-packages (from matplotlib) (0.12.1)\r\n",
      "Requirement already satisfied: fonttools>=4.22.0 in /home/tobi/PycharmProjects/Validas/SebastianStrobelHauptprojekt/venv/lib/python3.10/site-packages (from matplotlib) (4.48.1)\r\n",
      "Requirement already satisfied: kiwisolver>=1.3.1 in /home/tobi/PycharmProjects/Validas/SebastianStrobelHauptprojekt/venv/lib/python3.10/site-packages (from matplotlib) (1.4.5)\r\n",
      "Requirement already satisfied: packaging>=20.0 in /home/tobi/PycharmProjects/Validas/SebastianStrobelHauptprojekt/venv/lib/python3.10/site-packages (from matplotlib) (23.2)\r\n",
      "Requirement already satisfied: pillow>=8 in /home/tobi/PycharmProjects/Validas/SebastianStrobelHauptprojekt/venv/lib/python3.10/site-packages (from matplotlib) (10.2.0)\r\n",
      "Requirement already satisfied: pyparsing>=2.3.1 in /home/tobi/PycharmProjects/Validas/SebastianStrobelHauptprojekt/venv/lib/python3.10/site-packages (from matplotlib) (3.1.1)\r\n",
      "Requirement already satisfied: python-dateutil>=2.7 in /home/tobi/PycharmProjects/Validas/SebastianStrobelHauptprojekt/venv/lib/python3.10/site-packages (from matplotlib) (2.8.2)\r\n",
      "Requirement already satisfied: absl-py in /home/tobi/PycharmProjects/Validas/SebastianStrobelHauptprojekt/venv/lib/python3.10/site-packages (from keras) (2.1.0)\r\n",
      "Collecting rich (from keras)\r\n",
      "  Using cached rich-13.7.0-py3-none-any.whl.metadata (18 kB)\r\n",
      "Collecting namex (from keras)\r\n",
      "  Using cached namex-0.0.7-py3-none-any.whl (5.8 kB)\r\n",
      "Requirement already satisfied: h5py in /home/tobi/PycharmProjects/Validas/SebastianStrobelHauptprojekt/venv/lib/python3.10/site-packages (from keras) (3.10.0)\r\n",
      "Collecting dm-tree (from keras)\r\n",
      "  Using cached dm_tree-0.1.8-cp310-cp310-manylinux_2_17_x86_64.manylinux2014_x86_64.whl (152 kB)\r\n",
      "Requirement already satisfied: astunparse>=1.6.0 in /home/tobi/PycharmProjects/Validas/SebastianStrobelHauptprojekt/venv/lib/python3.10/site-packages (from tensorflow) (1.6.3)\r\n",
      "Requirement already satisfied: flatbuffers>=23.5.26 in /home/tobi/PycharmProjects/Validas/SebastianStrobelHauptprojekt/venv/lib/python3.10/site-packages (from tensorflow) (23.5.26)\r\n",
      "Requirement already satisfied: gast!=0.5.0,!=0.5.1,!=0.5.2,>=0.2.1 in /home/tobi/PycharmProjects/Validas/SebastianStrobelHauptprojekt/venv/lib/python3.10/site-packages (from tensorflow) (0.5.4)\r\n",
      "Requirement already satisfied: google-pasta>=0.1.1 in /home/tobi/PycharmProjects/Validas/SebastianStrobelHauptprojekt/venv/lib/python3.10/site-packages (from tensorflow) (0.2.0)\r\n",
      "Requirement already satisfied: libclang>=13.0.0 in /home/tobi/PycharmProjects/Validas/SebastianStrobelHauptprojekt/venv/lib/python3.10/site-packages (from tensorflow) (16.0.6)\r\n",
      "Requirement already satisfied: ml-dtypes~=0.2.0 in /home/tobi/PycharmProjects/Validas/SebastianStrobelHauptprojekt/venv/lib/python3.10/site-packages (from tensorflow) (0.2.0)\r\n",
      "Requirement already satisfied: opt-einsum>=2.3.2 in /home/tobi/PycharmProjects/Validas/SebastianStrobelHauptprojekt/venv/lib/python3.10/site-packages (from tensorflow) (3.3.0)\r\n",
      "Requirement already satisfied: protobuf!=4.21.0,!=4.21.1,!=4.21.2,!=4.21.3,!=4.21.4,!=4.21.5,<5.0.0dev,>=3.20.3 in /home/tobi/PycharmProjects/Validas/SebastianStrobelHauptprojekt/venv/lib/python3.10/site-packages (from tensorflow) (4.25.2)\r\n",
      "Requirement already satisfied: setuptools in /home/tobi/PycharmProjects/Validas/SebastianStrobelHauptprojekt/venv/lib/python3.10/site-packages (from tensorflow) (68.2.0)\r\n",
      "Requirement already satisfied: six>=1.12.0 in /home/tobi/PycharmProjects/Validas/SebastianStrobelHauptprojekt/venv/lib/python3.10/site-packages (from tensorflow) (1.16.0)\r\n",
      "Requirement already satisfied: termcolor>=1.1.0 in /home/tobi/PycharmProjects/Validas/SebastianStrobelHauptprojekt/venv/lib/python3.10/site-packages (from tensorflow) (2.4.0)\r\n",
      "Requirement already satisfied: typing-extensions>=3.6.6 in /home/tobi/PycharmProjects/Validas/SebastianStrobelHauptprojekt/venv/lib/python3.10/site-packages (from tensorflow) (4.9.0)\r\n",
      "Requirement already satisfied: wrapt<1.15,>=1.11.0 in /home/tobi/PycharmProjects/Validas/SebastianStrobelHauptprojekt/venv/lib/python3.10/site-packages (from tensorflow) (1.14.1)\r\n",
      "Requirement already satisfied: tensorflow-io-gcs-filesystem>=0.23.1 in /home/tobi/PycharmProjects/Validas/SebastianStrobelHauptprojekt/venv/lib/python3.10/site-packages (from tensorflow) (0.36.0)\r\n",
      "Requirement already satisfied: grpcio<2.0,>=1.24.3 in /home/tobi/PycharmProjects/Validas/SebastianStrobelHauptprojekt/venv/lib/python3.10/site-packages (from tensorflow) (1.60.1)\r\n",
      "Requirement already satisfied: tensorboard<2.16,>=2.15 in /home/tobi/PycharmProjects/Validas/SebastianStrobelHauptprojekt/venv/lib/python3.10/site-packages (from tensorflow) (2.15.2)\r\n",
      "Requirement already satisfied: tensorflow-estimator<2.16,>=2.15.0 in /home/tobi/PycharmProjects/Validas/SebastianStrobelHauptprojekt/venv/lib/python3.10/site-packages (from tensorflow) (2.15.0)\r\n",
      "Requirement already satisfied: scipy in /home/tobi/PycharmProjects/Validas/SebastianStrobelHauptprojekt/venv/lib/python3.10/site-packages (from shap) (1.12.0)\r\n",
      "Requirement already satisfied: scikit-learn in /home/tobi/PycharmProjects/Validas/SebastianStrobelHauptprojekt/venv/lib/python3.10/site-packages (from shap) (1.4.0)\r\n",
      "Requirement already satisfied: pandas in /home/tobi/PycharmProjects/Validas/SebastianStrobelHauptprojekt/venv/lib/python3.10/site-packages (from shap) (2.2.0)\r\n",
      "Requirement already satisfied: tqdm>=4.27.0 in /home/tobi/PycharmProjects/Validas/SebastianStrobelHauptprojekt/venv/lib/python3.10/site-packages (from shap) (4.66.1)\r\n",
      "Requirement already satisfied: slicer==0.0.7 in /home/tobi/PycharmProjects/Validas/SebastianStrobelHauptprojekt/venv/lib/python3.10/site-packages (from shap) (0.0.7)\r\n",
      "Requirement already satisfied: numba in /home/tobi/PycharmProjects/Validas/SebastianStrobelHauptprojekt/venv/lib/python3.10/site-packages (from shap) (0.59.0)\r\n",
      "Requirement already satisfied: cloudpickle in /home/tobi/PycharmProjects/Validas/SebastianStrobelHauptprojekt/venv/lib/python3.10/site-packages (from shap) (3.0.0)\r\n",
      "Requirement already satisfied: wheel<1.0,>=0.23.0 in /home/tobi/PycharmProjects/Validas/SebastianStrobelHauptprojekt/venv/lib/python3.10/site-packages (from astunparse>=1.6.0->tensorflow) (0.41.2)\r\n",
      "Requirement already satisfied: google-auth<3,>=1.6.3 in /home/tobi/PycharmProjects/Validas/SebastianStrobelHauptprojekt/venv/lib/python3.10/site-packages (from tensorboard<2.16,>=2.15->tensorflow) (2.27.0)\r\n",
      "Requirement already satisfied: google-auth-oauthlib<2,>=0.5 in /home/tobi/PycharmProjects/Validas/SebastianStrobelHauptprojekt/venv/lib/python3.10/site-packages (from tensorboard<2.16,>=2.15->tensorflow) (1.2.0)\r\n",
      "Requirement already satisfied: markdown>=2.6.8 in /home/tobi/PycharmProjects/Validas/SebastianStrobelHauptprojekt/venv/lib/python3.10/site-packages (from tensorboard<2.16,>=2.15->tensorflow) (3.5.2)\r\n",
      "Requirement already satisfied: requests<3,>=2.21.0 in /home/tobi/PycharmProjects/Validas/SebastianStrobelHauptprojekt/venv/lib/python3.10/site-packages (from tensorboard<2.16,>=2.15->tensorflow) (2.31.0)\r\n",
      "Requirement already satisfied: tensorboard-data-server<0.8.0,>=0.7.0 in /home/tobi/PycharmProjects/Validas/SebastianStrobelHauptprojekt/venv/lib/python3.10/site-packages (from tensorboard<2.16,>=2.15->tensorflow) (0.7.2)\r\n",
      "Requirement already satisfied: werkzeug>=1.0.1 in /home/tobi/PycharmProjects/Validas/SebastianStrobelHauptprojekt/venv/lib/python3.10/site-packages (from tensorboard<2.16,>=2.15->tensorflow) (3.0.1)\r\n",
      "Requirement already satisfied: llvmlite<0.43,>=0.42.0dev0 in /home/tobi/PycharmProjects/Validas/SebastianStrobelHauptprojekt/venv/lib/python3.10/site-packages (from numba->shap) (0.42.0)\r\n",
      "Requirement already satisfied: pytz>=2020.1 in /home/tobi/PycharmProjects/Validas/SebastianStrobelHauptprojekt/venv/lib/python3.10/site-packages (from pandas->shap) (2024.1)\r\n",
      "Requirement already satisfied: tzdata>=2022.7 in /home/tobi/PycharmProjects/Validas/SebastianStrobelHauptprojekt/venv/lib/python3.10/site-packages (from pandas->shap) (2023.4)\r\n",
      "Requirement already satisfied: joblib>=1.2.0 in /home/tobi/PycharmProjects/Validas/SebastianStrobelHauptprojekt/venv/lib/python3.10/site-packages (from scikit-learn->shap) (1.3.2)\r\n",
      "Requirement already satisfied: threadpoolctl>=2.0.0 in /home/tobi/PycharmProjects/Validas/SebastianStrobelHauptprojekt/venv/lib/python3.10/site-packages (from scikit-learn->shap) (3.2.0)\r\n",
      "Requirement already satisfied: cachetools<6.0,>=2.0.0 in /home/tobi/PycharmProjects/Validas/SebastianStrobelHauptprojekt/venv/lib/python3.10/site-packages (from google-auth<3,>=1.6.3->tensorboard<2.16,>=2.15->tensorflow) (5.3.2)\r\n",
      "Requirement already satisfied: pyasn1-modules>=0.2.1 in /home/tobi/PycharmProjects/Validas/SebastianStrobelHauptprojekt/venv/lib/python3.10/site-packages (from google-auth<3,>=1.6.3->tensorboard<2.16,>=2.15->tensorflow) (0.3.0)\r\n",
      "Requirement already satisfied: rsa<5,>=3.1.4 in /home/tobi/PycharmProjects/Validas/SebastianStrobelHauptprojekt/venv/lib/python3.10/site-packages (from google-auth<3,>=1.6.3->tensorboard<2.16,>=2.15->tensorflow) (4.9)\r\n",
      "Requirement already satisfied: requests-oauthlib>=0.7.0 in /home/tobi/PycharmProjects/Validas/SebastianStrobelHauptprojekt/venv/lib/python3.10/site-packages (from google-auth-oauthlib<2,>=0.5->tensorboard<2.16,>=2.15->tensorflow) (1.3.1)\r\n",
      "Requirement already satisfied: charset-normalizer<4,>=2 in /home/tobi/PycharmProjects/Validas/SebastianStrobelHauptprojekt/venv/lib/python3.10/site-packages (from requests<3,>=2.21.0->tensorboard<2.16,>=2.15->tensorflow) (3.3.2)\r\n",
      "Requirement already satisfied: idna<4,>=2.5 in /home/tobi/PycharmProjects/Validas/SebastianStrobelHauptprojekt/venv/lib/python3.10/site-packages (from requests<3,>=2.21.0->tensorboard<2.16,>=2.15->tensorflow) (3.6)\r\n",
      "Requirement already satisfied: urllib3<3,>=1.21.1 in /home/tobi/PycharmProjects/Validas/SebastianStrobelHauptprojekt/venv/lib/python3.10/site-packages (from requests<3,>=2.21.0->tensorboard<2.16,>=2.15->tensorflow) (2.2.0)\r\n",
      "Requirement already satisfied: certifi>=2017.4.17 in /home/tobi/PycharmProjects/Validas/SebastianStrobelHauptprojekt/venv/lib/python3.10/site-packages (from requests<3,>=2.21.0->tensorboard<2.16,>=2.15->tensorflow) (2024.2.2)\r\n",
      "Requirement already satisfied: MarkupSafe>=2.1.1 in /home/tobi/PycharmProjects/Validas/SebastianStrobelHauptprojekt/venv/lib/python3.10/site-packages (from werkzeug>=1.0.1->tensorboard<2.16,>=2.15->tensorflow) (2.1.5)\r\n",
      "Requirement already satisfied: pyasn1<0.6.0,>=0.4.6 in /home/tobi/PycharmProjects/Validas/SebastianStrobelHauptprojekt/venv/lib/python3.10/site-packages (from pyasn1-modules>=0.2.1->google-auth<3,>=1.6.3->tensorboard<2.16,>=2.15->tensorflow) (0.5.1)\r\n",
      "Requirement already satisfied: oauthlib>=3.0.0 in /home/tobi/PycharmProjects/Validas/SebastianStrobelHauptprojekt/venv/lib/python3.10/site-packages (from requests-oauthlib>=0.7.0->google-auth-oauthlib<2,>=0.5->tensorboard<2.16,>=2.15->tensorflow) (3.2.2)\r\n",
      "Collecting markdown-it-py>=2.2.0 (from rich->keras)\r\n",
      "  Using cached markdown_it_py-3.0.0-py3-none-any.whl.metadata (6.9 kB)\r\n",
      "Requirement already satisfied: pygments<3.0.0,>=2.13.0 in /home/tobi/PycharmProjects/Validas/SebastianStrobelHauptprojekt/venv/lib/python3.10/site-packages (from rich->keras) (2.17.2)\r\n",
      "Collecting mdurl~=0.1 (from markdown-it-py>=2.2.0->rich->keras)\r\n",
      "  Using cached mdurl-0.1.2-py3-none-any.whl (10.0 kB)\r\n"
     ]
    }
   ],
   "source": [
    "!pip install -U pip\n",
    "!pip install -U matplotlib numpy keras tensorflow shap"
   ],
   "metadata": {
    "collapsed": false,
    "ExecuteTime": {
     "end_time": "2024-02-09T15:44:26.801503265Z",
     "start_time": "2024-02-09T15:44:23.812039688Z"
    }
   },
   "id": "3c7d48f1d61ea362",
   "execution_count": 19
  },
  {
   "cell_type": "code",
   "outputs": [],
   "source": [
    "import os\n",
    "\n",
    "import keras.backend as K\n",
    "import matplotlib.pyplot as plt\n",
    "import numpy as np\n",
    "import shap\n",
    "import tensorflow as tf\n",
    "\n",
    "from keras.applications.vgg16 import preprocess_input\n",
    "from keras.models import load_model"
   ],
   "metadata": {
    "collapsed": false,
    "ExecuteTime": {
     "end_time": "2024-02-09T16:29:44.701428604Z",
     "start_time": "2024-02-09T16:29:44.659260484Z"
    }
   },
   "id": "fb646652e4a7ebff",
   "execution_count": 36
  },
  {
   "cell_type": "markdown",
   "source": [
    "## Load Data"
   ],
   "metadata": {
    "collapsed": false
   },
   "id": "509ecbd85507f13c"
  },
  {
   "cell_type": "code",
   "outputs": [
    {
     "data": {
      "text/plain": "((13576, 224, 224, 3),\n (13576, 9),\n (1938, 224, 224, 3),\n (1938, 9),\n (3879, 224, 224, 3),\n (3879, 9))"
     },
     "execution_count": 21,
     "metadata": {},
     "output_type": "execute_result"
    }
   ],
   "source": [
    "X_train = np.load(os.path.join('..', 'Arrays', 'VGG16', 'x_train.npy'))\n",
    "y_train = np.load(os.path.join('..', 'Arrays', 'VGG16', 'y_train.npy'))\n",
    "X_test = np.load(os.path.join('..', 'Arrays', 'VGG16', 'x_test.npy'))\n",
    "y_test = np.load(os.path.join('..', 'Arrays', 'VGG16', 'y_test.npy'))\n",
    "X_val = np.load(os.path.join('..', 'Arrays', 'VGG16', 'x_val.npy'))\n",
    "y_val = np.load(os.path.join('..', 'Arrays', 'VGG16', 'y_val.npy'))\n",
    "\n",
    "X_train.shape, y_train.shape, X_test.shape, y_test.shape, X_val.shape, y_val.shape"
   ],
   "metadata": {
    "collapsed": false,
    "ExecuteTime": {
     "end_time": "2024-02-09T15:44:27.282706265Z",
     "start_time": "2024-02-09T15:44:26.844010544Z"
    }
   },
   "id": "f31733fbb2a7db35",
   "execution_count": 21
  },
  {
   "cell_type": "code",
   "outputs": [
    {
     "data": {
      "text/plain": "<Figure size 640x480 with 1 Axes>",
      "image/png": "[encoded data removed]"
     },
     "metadata": {},
     "output_type": "display_data"
    }
   ],
   "source": [
    "plt.imshow(X_test[0])\n",
    "plt.show()"
   ],
   "metadata": {
    "collapsed": false,
    "ExecuteTime": {
     "end_time": "2024-02-09T15:44:27.375558123Z",
     "start_time": "2024-02-09T15:44:27.285109891Z"
    }
   },
   "id": "aef466060c17403c",
   "execution_count": 22
  },
  {
   "cell_type": "markdown",
   "source": [
    "## Load Model"
   ],
   "metadata": {
    "collapsed": false
   },
   "id": "78bc283a3007be71"
  },
  {
   "cell_type": "code",
   "outputs": [
    {
     "name": "stdout",
     "output_type": "stream",
     "text": [
      "Model: \"sequential\"\n",
      "_________________________________________________________________\n",
      " Layer (type)                Output Shape              Param #   \n",
      "=================================================================\n",
      " vgg16 (Functional)          (None, 7, 7, 512)         14714688  \n",
      "                                                                 \n",
      " flatten (Flatten)           (None, 25088)             0         \n",
      "                                                                 \n",
      " dense (Dense)               (None, 128)               3211392   \n",
      "                                                                 \n",
      " dropout (Dropout)           (None, 128)               0         \n",
      "                                                                 \n",
      " predictions (Dense)         (None, 9)                 1161      \n",
      "                                                                 \n",
      "=================================================================\n",
      "Total params: 17927241 (68.39 MB)\n",
      "Trainable params: 17927241 (68.39 MB)\n",
      "Non-trainable params: 0 (0.00 Byte)\n",
      "_________________________________________________________________\n"
     ]
    }
   ],
   "source": [
    "model = load_model(os.path.join('..', 'models', 'VGG16', 'trained_model_all_layer_100epochs_10_5.h5'))\n",
    "model.summary()"
   ],
   "metadata": {
    "collapsed": true,
    "ExecuteTime": {
     "end_time": "2024-02-09T15:44:38.377981119Z",
     "start_time": "2024-02-09T15:44:37.889404566Z"
    }
   },
   "id": "initial_id",
   "execution_count": 25
  },
  {
   "cell_type": "code",
   "outputs": [
    {
     "data": {
      "text/plain": "[<keras.src.engine.input_layer.InputLayer at 0x7f0071208a30>,\n <keras.src.layers.convolutional.conv2d.Conv2D at 0x7f0076bf2b30>,\n <keras.src.layers.convolutional.conv2d.Conv2D at 0x7f0076bf2c50>,\n <keras.src.layers.pooling.max_pooling2d.MaxPooling2D at 0x7f0076bf29e0>,\n <keras.src.layers.convolutional.conv2d.Conv2D at 0x7f01dbfe6dd0>,\n <keras.src.layers.convolutional.conv2d.Conv2D at 0x7f01dbfe7250>,\n <keras.src.layers.pooling.max_pooling2d.MaxPooling2D at 0x7f0071230130>,\n <keras.src.layers.convolutional.conv2d.Conv2D at 0x7f00712308e0>,\n <keras.src.layers.convolutional.conv2d.Conv2D at 0x7f00712309a0>,\n <keras.src.layers.convolutional.conv2d.Conv2D at 0x7f0071231000>,\n <keras.src.layers.pooling.max_pooling2d.MaxPooling2D at 0x7f00712315a0>,\n <keras.src.layers.convolutional.conv2d.Conv2D at 0x7f0071231db0>,\n <keras.src.layers.convolutional.conv2d.Conv2D at 0x7f0071231ea0>,\n <keras.src.layers.convolutional.conv2d.Conv2D at 0x7f0071232440>,\n <keras.src.layers.pooling.max_pooling2d.MaxPooling2D at 0x7f00712329e0>,\n <keras.src.layers.convolutional.conv2d.Conv2D at 0x7f00712331f0>,\n <keras.src.layers.convolutional.conv2d.Conv2D at 0x7f00712332e0>,\n <keras.src.layers.convolutional.conv2d.Conv2D at 0x7f0071233880>,\n <keras.src.layers.pooling.max_pooling2d.MaxPooling2D at 0x7f0071233e20>]"
     },
     "execution_count": 30,
     "metadata": {},
     "output_type": "execute_result"
    }
   ],
   "source": [
    "model.get_layer('vgg16').layers"
   ],
   "metadata": {
    "collapsed": false,
    "ExecuteTime": {
     "end_time": "2024-02-09T15:49:57.484127167Z",
     "start_time": "2024-02-09T15:49:57.442178675Z"
    }
   },
   "id": "9f7e72136d8ad373",
   "execution_count": 30
  },
  {
   "cell_type": "code",
   "outputs": [
    {
     "ename": "RuntimeError",
     "evalue": "The Session graph is empty. Add operations to the graph before calling run().",
     "output_type": "error",
     "traceback": [
      "\u001B[0;31m---------------------------------------------------------------------------\u001B[0m",
      "\u001B[0;31mRuntimeError\u001B[0m                              Traceback (most recent call last)",
      "Cell \u001B[0;32mIn[38], line 10\u001B[0m\n\u001B[1;32m      4\u001B[0m     feed_dict \u001B[38;5;241m=\u001B[39m \u001B[38;5;28mdict\u001B[39m(\u001B[38;5;28mzip\u001B[39m([model\u001B[38;5;241m.\u001B[39mget_layer(\u001B[38;5;124m'\u001B[39m\u001B[38;5;124mvgg16\u001B[39m\u001B[38;5;124m'\u001B[39m)\u001B[38;5;241m.\u001B[39mlayers[\u001B[38;5;241m0\u001B[39m]\u001B[38;5;241m.\u001B[39minput\u001B[38;5;241m.\u001B[39mref()], [preprocess_input(x\u001B[38;5;241m.\u001B[39mcopy())]))\n\u001B[1;32m      5\u001B[0m     \u001B[38;5;28;01mreturn\u001B[39;00m tf\u001B[38;5;241m.\u001B[39mcompat\u001B[38;5;241m.\u001B[39mv1\u001B[38;5;241m.\u001B[39mkeras\u001B[38;5;241m.\u001B[39mbackend\u001B[38;5;241m.\u001B[39mget_session()\u001B[38;5;241m.\u001B[39mrun(model\u001B[38;5;241m.\u001B[39mget_layer(\u001B[38;5;124m'\u001B[39m\u001B[38;5;124mvgg16\u001B[39m\u001B[38;5;124m'\u001B[39m)\u001B[38;5;241m.\u001B[39mlayers[layer]\u001B[38;5;241m.\u001B[39minput, feed_dict)\n\u001B[1;32m      8\u001B[0m e \u001B[38;5;241m=\u001B[39m shap\u001B[38;5;241m.\u001B[39mGradientExplainer(\n\u001B[1;32m      9\u001B[0m     (model\u001B[38;5;241m.\u001B[39mget_layer(\u001B[38;5;124m'\u001B[39m\u001B[38;5;124mvgg16\u001B[39m\u001B[38;5;124m'\u001B[39m)\u001B[38;5;241m.\u001B[39mlayers[\u001B[38;5;241m7\u001B[39m]\u001B[38;5;241m.\u001B[39minput, model\u001B[38;5;241m.\u001B[39mlayers[\u001B[38;5;241m-\u001B[39m\u001B[38;5;241m1\u001B[39m]\u001B[38;5;241m.\u001B[39moutput),\n\u001B[0;32m---> 10\u001B[0m     \u001B[43mmap2layer\u001B[49m\u001B[43m(\u001B[49m\u001B[43mpreprocess_input\u001B[49m\u001B[43m(\u001B[49m\u001B[43mX_test\u001B[49m\u001B[38;5;241;43m.\u001B[39;49m\u001B[43mcopy\u001B[49m\u001B[43m(\u001B[49m\u001B[43m)\u001B[49m\u001B[43m)\u001B[49m\u001B[43m,\u001B[49m\u001B[43m \u001B[49m\u001B[38;5;241;43m7\u001B[39;49m\u001B[43m)\u001B[49m,\n\u001B[1;32m     11\u001B[0m )\n\u001B[1;32m     12\u001B[0m shap_values, indexes \u001B[38;5;241m=\u001B[39m e\u001B[38;5;241m.\u001B[39mshap_values(map2layer(to_explain, \u001B[38;5;241m7\u001B[39m), ranked_outputs\u001B[38;5;241m=\u001B[39m\u001B[38;5;28;01mNone\u001B[39;00m)  \u001B[38;5;66;03m# \u001B[39;00m\n\u001B[1;32m     14\u001B[0m \u001B[38;5;66;03m# get the names for the classes\u001B[39;00m\n\u001B[1;32m     15\u001B[0m \u001B[38;5;66;03m# index_names = np.vectorize(lambda x: class_names[str(x)][1])(indexes)\u001B[39;00m\n\u001B[1;32m     16\u001B[0m \n\u001B[1;32m     17\u001B[0m \u001B[38;5;66;03m# plot the explanations\u001B[39;00m\n",
      "Cell \u001B[0;32mIn[38], line 5\u001B[0m, in \u001B[0;36mmap2layer\u001B[0;34m(x, layer)\u001B[0m\n\u001B[1;32m      3\u001B[0m \u001B[38;5;28;01mdef\u001B[39;00m \u001B[38;5;21mmap2layer\u001B[39m(x, layer):\n\u001B[1;32m      4\u001B[0m     feed_dict \u001B[38;5;241m=\u001B[39m \u001B[38;5;28mdict\u001B[39m(\u001B[38;5;28mzip\u001B[39m([model\u001B[38;5;241m.\u001B[39mget_layer(\u001B[38;5;124m'\u001B[39m\u001B[38;5;124mvgg16\u001B[39m\u001B[38;5;124m'\u001B[39m)\u001B[38;5;241m.\u001B[39mlayers[\u001B[38;5;241m0\u001B[39m]\u001B[38;5;241m.\u001B[39minput\u001B[38;5;241m.\u001B[39mref()], [preprocess_input(x\u001B[38;5;241m.\u001B[39mcopy())]))\n\u001B[0;32m----> 5\u001B[0m     \u001B[38;5;28;01mreturn\u001B[39;00m \u001B[43mtf\u001B[49m\u001B[38;5;241;43m.\u001B[39;49m\u001B[43mcompat\u001B[49m\u001B[38;5;241;43m.\u001B[39;49m\u001B[43mv1\u001B[49m\u001B[38;5;241;43m.\u001B[39;49m\u001B[43mkeras\u001B[49m\u001B[38;5;241;43m.\u001B[39;49m\u001B[43mbackend\u001B[49m\u001B[38;5;241;43m.\u001B[39;49m\u001B[43mget_session\u001B[49m\u001B[43m(\u001B[49m\u001B[43m)\u001B[49m\u001B[38;5;241;43m.\u001B[39;49m\u001B[43mrun\u001B[49m\u001B[43m(\u001B[49m\u001B[43mmodel\u001B[49m\u001B[38;5;241;43m.\u001B[39;49m\u001B[43mget_layer\u001B[49m\u001B[43m(\u001B[49m\u001B[38;5;124;43m'\u001B[39;49m\u001B[38;5;124;43mvgg16\u001B[39;49m\u001B[38;5;124;43m'\u001B[39;49m\u001B[43m)\u001B[49m\u001B[38;5;241;43m.\u001B[39;49m\u001B[43mlayers\u001B[49m\u001B[43m[\u001B[49m\u001B[43mlayer\u001B[49m\u001B[43m]\u001B[49m\u001B[38;5;241;43m.\u001B[39;49m\u001B[43minput\u001B[49m\u001B[43m,\u001B[49m\u001B[43m \u001B[49m\u001B[43mfeed_dict\u001B[49m\u001B[43m)\u001B[49m\n",
      "File \u001B[0;32m~/PycharmProjects/Validas/SebastianStrobelHauptprojekt/venv/lib/python3.10/site-packages/tensorflow/python/client/session.py:972\u001B[0m, in \u001B[0;36mBaseSession.run\u001B[0;34m(self, fetches, feed_dict, options, run_metadata)\u001B[0m\n\u001B[1;32m    969\u001B[0m run_metadata_ptr \u001B[38;5;241m=\u001B[39m tf_session\u001B[38;5;241m.\u001B[39mTF_NewBuffer() \u001B[38;5;28;01mif\u001B[39;00m run_metadata \u001B[38;5;28;01melse\u001B[39;00m \u001B[38;5;28;01mNone\u001B[39;00m\n\u001B[1;32m    971\u001B[0m \u001B[38;5;28;01mtry\u001B[39;00m:\n\u001B[0;32m--> 972\u001B[0m   result \u001B[38;5;241m=\u001B[39m \u001B[38;5;28;43mself\u001B[39;49m\u001B[38;5;241;43m.\u001B[39;49m\u001B[43m_run\u001B[49m\u001B[43m(\u001B[49m\u001B[38;5;28;43;01mNone\u001B[39;49;00m\u001B[43m,\u001B[49m\u001B[43m \u001B[49m\u001B[43mfetches\u001B[49m\u001B[43m,\u001B[49m\u001B[43m \u001B[49m\u001B[43mfeed_dict\u001B[49m\u001B[43m,\u001B[49m\u001B[43m \u001B[49m\u001B[43moptions_ptr\u001B[49m\u001B[43m,\u001B[49m\n\u001B[1;32m    973\u001B[0m \u001B[43m                     \u001B[49m\u001B[43mrun_metadata_ptr\u001B[49m\u001B[43m)\u001B[49m\n\u001B[1;32m    974\u001B[0m   \u001B[38;5;28;01mif\u001B[39;00m run_metadata:\n\u001B[1;32m    975\u001B[0m     proto_data \u001B[38;5;241m=\u001B[39m tf_session\u001B[38;5;241m.\u001B[39mTF_GetBuffer(run_metadata_ptr)\n",
      "File \u001B[0;32m~/PycharmProjects/Validas/SebastianStrobelHauptprojekt/venv/lib/python3.10/site-packages/tensorflow/python/client/session.py:1142\u001B[0m, in \u001B[0;36mBaseSession._run\u001B[0;34m(self, handle, fetches, feed_dict, options, run_metadata)\u001B[0m\n\u001B[1;32m   1140\u001B[0m   \u001B[38;5;28;01mraise\u001B[39;00m \u001B[38;5;167;01mRuntimeError\u001B[39;00m(\u001B[38;5;124m'\u001B[39m\u001B[38;5;124mAttempted to use a closed Session.\u001B[39m\u001B[38;5;124m'\u001B[39m)\n\u001B[1;32m   1141\u001B[0m \u001B[38;5;28;01mif\u001B[39;00m \u001B[38;5;28mself\u001B[39m\u001B[38;5;241m.\u001B[39mgraph\u001B[38;5;241m.\u001B[39mversion \u001B[38;5;241m==\u001B[39m \u001B[38;5;241m0\u001B[39m:\n\u001B[0;32m-> 1142\u001B[0m   \u001B[38;5;28;01mraise\u001B[39;00m \u001B[38;5;167;01mRuntimeError\u001B[39;00m(\u001B[38;5;124m'\u001B[39m\u001B[38;5;124mThe Session graph is empty. Add operations to the \u001B[39m\u001B[38;5;124m'\u001B[39m\n\u001B[1;32m   1143\u001B[0m                      \u001B[38;5;124m'\u001B[39m\u001B[38;5;124mgraph before calling run().\u001B[39m\u001B[38;5;124m'\u001B[39m)\n\u001B[1;32m   1145\u001B[0m \u001B[38;5;66;03m# Create request.\u001B[39;00m\n\u001B[1;32m   1146\u001B[0m feed_dict_tensor \u001B[38;5;241m=\u001B[39m {}\n",
      "\u001B[0;31mRuntimeError\u001B[0m: The Session graph is empty. Add operations to the graph before calling run()."
     ]
    }
   ],
   "source": [
    "to_explain = [X_test[0]]\n",
    "\n",
    "def map2layer(x, layer):\n",
    "    feed_dict = dict(zip([model.get_layer('vgg16').layers[0].input.ref()], [preprocess_input(x.copy())]))\n",
    "    return tf.compat.v1.keras.backend.get_session().run(model.get_layer('vgg16').layers[layer].input, feed_dict)\n",
    "\n",
    "\n",
    "e = shap.GradientExplainer(\n",
    "    (model.get_layer('vgg16').layers[7].input, model.layers[-1].output),\n",
    "    map2layer(preprocess_input(X_test.copy()), 7),\n",
    ")\n",
    "shap_values, indexes = e.shap_values(map2layer(to_explain, 7), ranked_outputs=None)  # \n",
    "\n",
    "# get the names for the classes\n",
    "# index_names = np.vectorize(lambda x: class_names[str(x)][1])(indexes)\n",
    "\n",
    "# plot the explanations\n",
    "shap.image_plot(shap_values, to_explain)  # , index_names"
   ],
   "metadata": {
    "collapsed": false,
    "ExecuteTime": {
     "end_time": "2024-02-09T16:30:44.372311439Z",
     "start_time": "2024-02-09T16:30:43.051664174Z"
    }
   },
   "id": "c783c8d12e0594c6",
   "execution_count": 38
  },
  {
   "cell_type": "code",
   "outputs": [],
   "source": [],
   "metadata": {
    "collapsed": false,
    "ExecuteTime": {
     "start_time": "2024-02-09T15:44:27.861988922Z"
    }
   },
   "id": "fc6d8f628fd7300f"
  }
 ],
 "metadata": {
  "kernelspec": {
   "display_name": "Python 3",
   "language": "python",
   "name": "python3"
  },
  "language_info": {
   "codemirror_mode": {
    "name": "ipython",
    "version": 2
   },
   "file_extension": ".py",
   "mimetype": "text/x-python",
   "name": "python",
   "nbconvert_exporter": "python",
   "pygments_lexer": "ipython2",
   "version": "2.7.6"
  }
 },
 "nbformat": 4,
 "nbformat_minor": 5
}
